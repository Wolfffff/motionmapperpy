{
 "cells": [
  {
   "cell_type": "markdown",
   "metadata": {
    "colab_type": "text",
    "id": "view-in-github"
   },
   "source": [
    "<a href=\"https://colab.research.google.com/github/bermanlabemory/motionmapperpy/blob/master/demo/motionmapper_fly_demo.ipynb\" target=\"_parent\"><img src=\"https://colab.research.google.com/assets/colab-badge.svg\" alt=\"Open In Colab\"/></a>"
   ]
  },
  {
   "cell_type": "markdown",
   "metadata": {
    "id": "PbKKSrXoXFDv"
   },
   "source": [
    "The github repositories for motionmapper are - \n",
    "\n",
    "1. [MATLAB] **motionmapper** : https://github.com/gordonberman/MotionMapper\n",
    "\n",
    "2. [PYTHON] **motionmapperpy** : https://github.com/bermanlabemory/motionmapperpy/\n"
   ]
  },
  {
   "cell_type": "markdown",
   "metadata": {
    "id": "Ihl-KLNKWPC-"
   },
   "source": [
    "# 1.&nbsp; Downloading and installing motionmapperpy"
   ]
  },
  {
   "cell_type": "markdown",
   "metadata": {
    "id": "5CrqmGh9CC1g"
   },
   "source": [
    "First, we'll need to get motionmapperpy (sometimes we'll call it **mmpy** for brevity) from GitHub [![image.png](data:image/png;base64,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)](https://github.com/bermanlabemory/motionmapperpy). \n",
    "\n",
    "Below we clone this github repository, which will download a copy of the repository on this COLAB runtime. "
   ]
  },
  {
   "cell_type": "code",
   "execution_count": 6,
   "metadata": {
    "id": "lyYdRU07KSDB"
   },
   "outputs": [],
   "source": [
    "# !git clone https://github.com/bermanlabemory/motionmapperpy"
   ]
  },
  {
   "cell_type": "markdown",
   "metadata": {
    "id": "AgBj7TeVDv6q"
   },
   "source": [
    "You'll notice the a **folder** named *motionmapperpy* created in the working directory in the left pane. This is the repository we just cloned and it contains the mmpy package and some toy datasets in the data folder. Note that our current working path is **/content/** in case you ever get lost. We still need to install motionmapperpy as a python package and we can do that by running this command - \n",
    "\n",
    "\n",
    "\n",
    "```\n",
    "# Change to the motionmapperpy directory we just cloned into this colab instance\n",
    "%cd motionmapperpy\n",
    "\n",
    "# Install motionmapperpy as a python package to the current python environment\n",
    "!python setup.py install\n",
    "\n",
    "# Come out of the mmpy directory. \n",
    "%cd ..\n",
    "```\n",
    "\n",
    "\\\n",
    "\\\n",
    "\\\n",
    "*Quick note* : Colab instances come with many Python packages pre installed. You can run ```%pip list``` to see what packages are already present. "
   ]
  },
  {
   "cell_type": "code",
   "execution_count": 7,
   "metadata": {
    "id": "LYIdzKuADUu1"
   },
   "outputs": [],
   "source": [
    "# ## Install mmpy in this cell\n",
    "\n",
    "# # Change to the motionmapperpy directory we just cloned into this colab instance\n",
    "# %cd motionmapperpy\n",
    "\n",
    "# # Install motionmapperpy as a python package to the current python environment\n",
    "# !python setup.py install\n",
    "\n",
    "# # Come out of the mmpy directory.\n",
    "# %cd ..\n",
    "\n",
    "# !pip3 install imageio==2.4.1\n",
    "\n",
    "# # !pip install --upgrade imageio-ffmpeg"
   ]
  },
  {
   "cell_type": "markdown",
   "metadata": {
    "id": "uySr8CInEfKJ"
   },
   "source": [
    "\\\n",
    "\\\n",
    "\\\n",
    "Great! We should have `motionmapperpy` installed on this colab runtime now! We'll **need to restart the runtime** so that this notebook is able to recognize motionmapperpy (meaning we can do ```import motionmapperpy```)\n",
    "and its dependencies as python packages. We can restart the instance by going to **Runtime->Restart Runtime** in the **top menu bar**. It is equivalent to restarting the ipython kernel when working with Jupyter notebooks. \n",
    "\n",
    "Note that restarting the runtime does not delete files and folders we have created in this colab instance, or remove any python packages we've installed here. But doing **Factory Reset Runtime** will do all of those things so be careful! Also, note that Google will clear our colab instance if we're not using the instance for some arbitrarily brief amount, in which case the runtime will be factory reset and we'll lose .\n",
    "\n",
    "\n",
    "Once you have restarted the runtime, you are good to move on to the next section!"
   ]
  },
  {
   "cell_type": "markdown",
   "metadata": {
    "id": "feayV1ZNYDT5"
   },
   "source": [
    "# 2.&nbsp; Toy datasets "
   ]
  },
  {
   "cell_type": "markdown",
   "metadata": {
    "id": "nLb1_VPTGTyT"
   },
   "source": [
    "There are three additional small datasets present within the motionmapper repository we cloned from GitHub. These are present in **`motionmapperpy/data`** path.\n",
    "\n",
    "1. **Fly video dataset** : **fly_movie.avi** is video of a fly and **fly_movie_projections.mat** contains PCA projections obtained after segmentation and alignment of this frames/images from the movie. . \n",
    "\n",
    "2. **Mouse dataset** : **mouse_movie.avi** contains video of a mouse moving inside an arena. **mouse_movie_projections.mat** contains PCA projections obtained after segmentation and alignment of images/frames obtained from this movie.  \n",
    "\n",
    "3. **Leap tracked fly dataset** : This dataset has two movies **fly_leap_test.mp4** and **fly_leap_test_2.mp4** with 2 corresponding h5 files containing 32 points tracked using [LEAP](https://dataspace.princeton.edu/handle/88435/dsp01pz50gz79z).\n",
    "\n",
    "Try downloading the movies to check out what they look like. \n",
    "\n",
    "\n",
    "\n",
    "\n",
    "\n",
    "--------------------\n",
    "\n",
    "\n",
    "Alright, lets get started! We'll focus on the LEAP tracked fly dataset as our toy example in this notebook. We'll import some packages to kick things off below. "
   ]
  },
  {
   "cell_type": "code",
   "execution_count": 1,
   "metadata": {
    "id": "6HmksBlkYC7-"
   },
   "outputs": [],
   "source": [
    "# Python standard library packages to do file/folder manipulations,\n",
    "# pickle is a package to store python variables\n",
    "import glob, os, pickle, sys\n",
    "\n",
    "# time grabs current clock time and copy to safely make copies of large\n",
    "# variables in memory.\n",
    "import time, copy\n",
    "\n",
    "# datetime package is used to get and manipulate date and time data\n",
    "from datetime import datetime\n",
    "\n",
    "# this packages helps load and save .mat files older than v7\n",
    "import hdf5storage\n",
    "\n",
    "# numpy works with arrays, pandas used to work with fancy numpy arrays\n",
    "import numpy as np\n",
    "import pandas as pd\n",
    "\n",
    "# matplotlib is used to plot and animate to make movies\n",
    "import matplotlib.pyplot as plt\n",
    "from matplotlib.animation import FuncAnimation\n",
    "\n",
    "# moviepy helps open the video files in Python\n",
    "from moviepy.editor import VideoClip, VideoFileClip\n",
    "from moviepy.video.io.bindings import mplfig_to_npimage\n",
    "\n",
    "# Scikit-learn is a go-to library in Python for all things machine learning\n",
    "from sklearn.decomposition import PCA\n",
    "\n",
    "# tqdm helps create progress bars in for loops\n",
    "from tqdm import tqdm\n",
    "\n",
    "# Scipy is a go-to scientific computing library. We'll use it for median filtering.\n",
    "from scipy.ndimage import median_filter\n",
    "\n",
    "# Configuring matplotlib to show animations in a colab notebook as javascript\n",
    "# objects for easier viewing.\n",
    "from matplotlib import rc\n",
    "\n",
    "rc(\"animation\", html=\"jshtml\")"
   ]
  },
  {
   "cell_type": "markdown",
   "metadata": {
    "id": "sGMipKyinZYx"
   },
   "source": [
    "Now we can load the files associated with this dataset. We'll read the two video files using `moviepy`, and the two .h5 tracking datasets using pandas. "
   ]
  },
  {
   "cell_type": "code",
   "execution_count": 9,
   "metadata": {
    "id": "V6QE6dhlMxEz"
   },
   "outputs": [
    {
     "name": "stdout",
     "output_type": "stream",
     "text": [
      "/Genomics/ayroleslab2/scott/git/lts-manuscript/analysis/utils/motionmapperpy/demo\n"
     ]
    }
   ],
   "source": [
    "datasetnames = [\"fly_leap_test\", \"fly_leap_test_2\"]\n",
    "print(os.getcwd())\n",
    "clips = [VideoFileClip(\"../data/fly/%s.mp4\" % d) for d in datasetnames]\n",
    "\n",
    "\n",
    "h5s_pandas = [pd.read_hdf(\"../data/fly/%s_positions.h5\" % d) for d in datasetnames]"
   ]
  },
  {
   "cell_type": "code",
   "execution_count": 10,
   "metadata": {
    "id": "NacTgAlEZ8PU"
   },
   "outputs": [
    {
     "data": {
      "text/html": [
       "<div>\n",
       "<style scoped>\n",
       "    .dataframe tbody tr th:only-of-type {\n",
       "        vertical-align: middle;\n",
       "    }\n",
       "\n",
       "    .dataframe tbody tr th {\n",
       "        vertical-align: top;\n",
       "    }\n",
       "\n",
       "    .dataframe thead tr th {\n",
       "        text-align: left;\n",
       "    }\n",
       "</style>\n",
       "<table border=\"1\" class=\"dataframe\">\n",
       "  <thead>\n",
       "    <tr>\n",
       "      <th>scorer</th>\n",
       "      <th colspan=\"21\" halign=\"left\">LEAP</th>\n",
       "    </tr>\n",
       "    <tr>\n",
       "      <th>bodyparts</th>\n",
       "      <th colspan=\"3\" halign=\"left\">head</th>\n",
       "      <th colspan=\"3\" halign=\"left\">eyeL</th>\n",
       "      <th colspan=\"3\" halign=\"left\">eyeR</th>\n",
       "      <th>neck</th>\n",
       "      <th>...</th>\n",
       "      <th>hindlegL3</th>\n",
       "      <th colspan=\"3\" halign=\"left\">hindlegL4</th>\n",
       "      <th colspan=\"3\" halign=\"left\">wingL</th>\n",
       "      <th colspan=\"3\" halign=\"left\">wingR</th>\n",
       "    </tr>\n",
       "    <tr>\n",
       "      <th>coords</th>\n",
       "      <th>x</th>\n",
       "      <th>y</th>\n",
       "      <th>likelihood</th>\n",
       "      <th>x</th>\n",
       "      <th>y</th>\n",
       "      <th>likelihood</th>\n",
       "      <th>x</th>\n",
       "      <th>y</th>\n",
       "      <th>likelihood</th>\n",
       "      <th>x</th>\n",
       "      <th>...</th>\n",
       "      <th>likelihood</th>\n",
       "      <th>x</th>\n",
       "      <th>y</th>\n",
       "      <th>likelihood</th>\n",
       "      <th>x</th>\n",
       "      <th>y</th>\n",
       "      <th>likelihood</th>\n",
       "      <th>x</th>\n",
       "      <th>y</th>\n",
       "      <th>likelihood</th>\n",
       "    </tr>\n",
       "  </thead>\n",
       "  <tbody>\n",
       "    <tr>\n",
       "      <th>0</th>\n",
       "      <td>94.0</td>\n",
       "      <td>148.0</td>\n",
       "      <td>0.997976</td>\n",
       "      <td>78.0</td>\n",
       "      <td>135.0</td>\n",
       "      <td>0.936517</td>\n",
       "      <td>111.0</td>\n",
       "      <td>136.0</td>\n",
       "      <td>1.011603</td>\n",
       "      <td>95.0</td>\n",
       "      <td>...</td>\n",
       "      <td>0.658106</td>\n",
       "      <td>81.0</td>\n",
       "      <td>45.0</td>\n",
       "      <td>0.378380</td>\n",
       "      <td>89.0</td>\n",
       "      <td>16.0</td>\n",
       "      <td>0.992454</td>\n",
       "      <td>102.0</td>\n",
       "      <td>17.0</td>\n",
       "      <td>0.914016</td>\n",
       "    </tr>\n",
       "    <tr>\n",
       "      <th>1</th>\n",
       "      <td>95.0</td>\n",
       "      <td>147.0</td>\n",
       "      <td>0.966769</td>\n",
       "      <td>78.0</td>\n",
       "      <td>135.0</td>\n",
       "      <td>0.952672</td>\n",
       "      <td>111.0</td>\n",
       "      <td>135.0</td>\n",
       "      <td>0.985119</td>\n",
       "      <td>95.0</td>\n",
       "      <td>...</td>\n",
       "      <td>0.583825</td>\n",
       "      <td>81.0</td>\n",
       "      <td>47.0</td>\n",
       "      <td>0.192607</td>\n",
       "      <td>89.0</td>\n",
       "      <td>16.0</td>\n",
       "      <td>0.990767</td>\n",
       "      <td>101.0</td>\n",
       "      <td>17.0</td>\n",
       "      <td>0.895895</td>\n",
       "    </tr>\n",
       "    <tr>\n",
       "      <th>2</th>\n",
       "      <td>95.0</td>\n",
       "      <td>147.0</td>\n",
       "      <td>0.983893</td>\n",
       "      <td>78.0</td>\n",
       "      <td>135.0</td>\n",
       "      <td>0.944753</td>\n",
       "      <td>111.0</td>\n",
       "      <td>135.0</td>\n",
       "      <td>0.994426</td>\n",
       "      <td>95.0</td>\n",
       "      <td>...</td>\n",
       "      <td>0.571004</td>\n",
       "      <td>81.0</td>\n",
       "      <td>47.0</td>\n",
       "      <td>0.285333</td>\n",
       "      <td>89.0</td>\n",
       "      <td>16.0</td>\n",
       "      <td>1.003834</td>\n",
       "      <td>101.0</td>\n",
       "      <td>17.0</td>\n",
       "      <td>0.971727</td>\n",
       "    </tr>\n",
       "    <tr>\n",
       "      <th>3</th>\n",
       "      <td>95.0</td>\n",
       "      <td>147.0</td>\n",
       "      <td>0.975566</td>\n",
       "      <td>77.0</td>\n",
       "      <td>135.0</td>\n",
       "      <td>0.935152</td>\n",
       "      <td>111.0</td>\n",
       "      <td>135.0</td>\n",
       "      <td>0.991430</td>\n",
       "      <td>95.0</td>\n",
       "      <td>...</td>\n",
       "      <td>0.519479</td>\n",
       "      <td>85.0</td>\n",
       "      <td>46.0</td>\n",
       "      <td>0.236658</td>\n",
       "      <td>89.0</td>\n",
       "      <td>16.0</td>\n",
       "      <td>0.973690</td>\n",
       "      <td>101.0</td>\n",
       "      <td>17.0</td>\n",
       "      <td>0.969307</td>\n",
       "    </tr>\n",
       "    <tr>\n",
       "      <th>4</th>\n",
       "      <td>94.0</td>\n",
       "      <td>148.0</td>\n",
       "      <td>0.983482</td>\n",
       "      <td>77.0</td>\n",
       "      <td>135.0</td>\n",
       "      <td>0.934642</td>\n",
       "      <td>111.0</td>\n",
       "      <td>135.0</td>\n",
       "      <td>0.983904</td>\n",
       "      <td>95.0</td>\n",
       "      <td>...</td>\n",
       "      <td>0.606728</td>\n",
       "      <td>81.0</td>\n",
       "      <td>46.0</td>\n",
       "      <td>0.399705</td>\n",
       "      <td>89.0</td>\n",
       "      <td>16.0</td>\n",
       "      <td>0.980679</td>\n",
       "      <td>101.0</td>\n",
       "      <td>17.0</td>\n",
       "      <td>0.983998</td>\n",
       "    </tr>\n",
       "    <tr>\n",
       "      <th>...</th>\n",
       "      <td>...</td>\n",
       "      <td>...</td>\n",
       "      <td>...</td>\n",
       "      <td>...</td>\n",
       "      <td>...</td>\n",
       "      <td>...</td>\n",
       "      <td>...</td>\n",
       "      <td>...</td>\n",
       "      <td>...</td>\n",
       "      <td>...</td>\n",
       "      <td>...</td>\n",
       "      <td>...</td>\n",
       "      <td>...</td>\n",
       "      <td>...</td>\n",
       "      <td>...</td>\n",
       "      <td>...</td>\n",
       "      <td>...</td>\n",
       "      <td>...</td>\n",
       "      <td>...</td>\n",
       "      <td>...</td>\n",
       "      <td>...</td>\n",
       "    </tr>\n",
       "    <tr>\n",
       "      <th>19995</th>\n",
       "      <td>96.0</td>\n",
       "      <td>147.0</td>\n",
       "      <td>0.977591</td>\n",
       "      <td>79.0</td>\n",
       "      <td>135.0</td>\n",
       "      <td>0.974096</td>\n",
       "      <td>113.0</td>\n",
       "      <td>134.0</td>\n",
       "      <td>0.900437</td>\n",
       "      <td>96.0</td>\n",
       "      <td>...</td>\n",
       "      <td>0.921827</td>\n",
       "      <td>65.0</td>\n",
       "      <td>43.0</td>\n",
       "      <td>1.010905</td>\n",
       "      <td>93.0</td>\n",
       "      <td>16.0</td>\n",
       "      <td>0.913688</td>\n",
       "      <td>99.0</td>\n",
       "      <td>15.0</td>\n",
       "      <td>0.990639</td>\n",
       "    </tr>\n",
       "    <tr>\n",
       "      <th>19996</th>\n",
       "      <td>96.0</td>\n",
       "      <td>147.0</td>\n",
       "      <td>0.901368</td>\n",
       "      <td>79.0</td>\n",
       "      <td>135.0</td>\n",
       "      <td>0.975037</td>\n",
       "      <td>113.0</td>\n",
       "      <td>135.0</td>\n",
       "      <td>0.939021</td>\n",
       "      <td>96.0</td>\n",
       "      <td>...</td>\n",
       "      <td>0.931697</td>\n",
       "      <td>63.0</td>\n",
       "      <td>40.0</td>\n",
       "      <td>0.985959</td>\n",
       "      <td>92.0</td>\n",
       "      <td>17.0</td>\n",
       "      <td>0.917335</td>\n",
       "      <td>99.0</td>\n",
       "      <td>15.0</td>\n",
       "      <td>0.960659</td>\n",
       "    </tr>\n",
       "    <tr>\n",
       "      <th>19997</th>\n",
       "      <td>97.0</td>\n",
       "      <td>148.0</td>\n",
       "      <td>0.965987</td>\n",
       "      <td>79.0</td>\n",
       "      <td>135.0</td>\n",
       "      <td>0.961830</td>\n",
       "      <td>113.0</td>\n",
       "      <td>134.0</td>\n",
       "      <td>0.958881</td>\n",
       "      <td>96.0</td>\n",
       "      <td>...</td>\n",
       "      <td>0.888548</td>\n",
       "      <td>63.0</td>\n",
       "      <td>41.0</td>\n",
       "      <td>0.943244</td>\n",
       "      <td>91.0</td>\n",
       "      <td>16.0</td>\n",
       "      <td>0.898105</td>\n",
       "      <td>99.0</td>\n",
       "      <td>15.0</td>\n",
       "      <td>1.003330</td>\n",
       "    </tr>\n",
       "    <tr>\n",
       "      <th>19998</th>\n",
       "      <td>97.0</td>\n",
       "      <td>148.0</td>\n",
       "      <td>0.946962</td>\n",
       "      <td>79.0</td>\n",
       "      <td>135.0</td>\n",
       "      <td>0.964133</td>\n",
       "      <td>115.0</td>\n",
       "      <td>133.0</td>\n",
       "      <td>0.913020</td>\n",
       "      <td>97.0</td>\n",
       "      <td>...</td>\n",
       "      <td>0.943938</td>\n",
       "      <td>63.0</td>\n",
       "      <td>41.0</td>\n",
       "      <td>0.976252</td>\n",
       "      <td>92.0</td>\n",
       "      <td>17.0</td>\n",
       "      <td>0.931574</td>\n",
       "      <td>99.0</td>\n",
       "      <td>15.0</td>\n",
       "      <td>0.980430</td>\n",
       "    </tr>\n",
       "    <tr>\n",
       "      <th>19999</th>\n",
       "      <td>97.0</td>\n",
       "      <td>148.0</td>\n",
       "      <td>0.942981</td>\n",
       "      <td>79.0</td>\n",
       "      <td>135.0</td>\n",
       "      <td>0.963280</td>\n",
       "      <td>115.0</td>\n",
       "      <td>133.0</td>\n",
       "      <td>0.964309</td>\n",
       "      <td>97.0</td>\n",
       "      <td>...</td>\n",
       "      <td>0.915112</td>\n",
       "      <td>63.0</td>\n",
       "      <td>40.0</td>\n",
       "      <td>0.960774</td>\n",
       "      <td>93.0</td>\n",
       "      <td>16.0</td>\n",
       "      <td>0.932209</td>\n",
       "      <td>99.0</td>\n",
       "      <td>15.0</td>\n",
       "      <td>0.962214</td>\n",
       "    </tr>\n",
       "  </tbody>\n",
       "</table>\n",
       "<p>20000 rows × 96 columns</p>\n",
       "</div>"
      ],
      "text/plain": [
       "scorer     LEAP                                                          \\\n",
       "bodyparts  head                    eyeL                     eyeR          \n",
       "coords        x      y likelihood     x      y likelihood      x      y   \n",
       "0          94.0  148.0   0.997976  78.0  135.0   0.936517  111.0  136.0   \n",
       "1          95.0  147.0   0.966769  78.0  135.0   0.952672  111.0  135.0   \n",
       "2          95.0  147.0   0.983893  78.0  135.0   0.944753  111.0  135.0   \n",
       "3          95.0  147.0   0.975566  77.0  135.0   0.935152  111.0  135.0   \n",
       "4          94.0  148.0   0.983482  77.0  135.0   0.934642  111.0  135.0   \n",
       "...         ...    ...        ...   ...    ...        ...    ...    ...   \n",
       "19995      96.0  147.0   0.977591  79.0  135.0   0.974096  113.0  134.0   \n",
       "19996      96.0  147.0   0.901368  79.0  135.0   0.975037  113.0  135.0   \n",
       "19997      97.0  148.0   0.965987  79.0  135.0   0.961830  113.0  134.0   \n",
       "19998      97.0  148.0   0.946962  79.0  135.0   0.964133  115.0  133.0   \n",
       "19999      97.0  148.0   0.942981  79.0  135.0   0.963280  115.0  133.0   \n",
       "\n",
       "scorer                      ...                                              \\\n",
       "bodyparts             neck  ...  hindlegL3 hindlegL4                  wingL   \n",
       "coords    likelihood     x  ... likelihood         x     y likelihood     x   \n",
       "0           1.011603  95.0  ...   0.658106      81.0  45.0   0.378380  89.0   \n",
       "1           0.985119  95.0  ...   0.583825      81.0  47.0   0.192607  89.0   \n",
       "2           0.994426  95.0  ...   0.571004      81.0  47.0   0.285333  89.0   \n",
       "3           0.991430  95.0  ...   0.519479      85.0  46.0   0.236658  89.0   \n",
       "4           0.983904  95.0  ...   0.606728      81.0  46.0   0.399705  89.0   \n",
       "...              ...   ...  ...        ...       ...   ...        ...   ...   \n",
       "19995       0.900437  96.0  ...   0.921827      65.0  43.0   1.010905  93.0   \n",
       "19996       0.939021  96.0  ...   0.931697      63.0  40.0   0.985959  92.0   \n",
       "19997       0.958881  96.0  ...   0.888548      63.0  41.0   0.943244  91.0   \n",
       "19998       0.913020  97.0  ...   0.943938      63.0  41.0   0.976252  92.0   \n",
       "19999       0.964309  97.0  ...   0.915112      63.0  40.0   0.960774  93.0   \n",
       "\n",
       "scorer                                              \n",
       "bodyparts                   wingR                   \n",
       "coords        y likelihood      x     y likelihood  \n",
       "0          16.0   0.992454  102.0  17.0   0.914016  \n",
       "1          16.0   0.990767  101.0  17.0   0.895895  \n",
       "2          16.0   1.003834  101.0  17.0   0.971727  \n",
       "3          16.0   0.973690  101.0  17.0   0.969307  \n",
       "4          16.0   0.980679  101.0  17.0   0.983998  \n",
       "...         ...        ...    ...   ...        ...  \n",
       "19995      16.0   0.913688   99.0  15.0   0.990639  \n",
       "19996      17.0   0.917335   99.0  15.0   0.960659  \n",
       "19997      16.0   0.898105   99.0  15.0   1.003330  \n",
       "19998      17.0   0.931574   99.0  15.0   0.980430  \n",
       "19999      16.0   0.932209   99.0  15.0   0.962214  \n",
       "\n",
       "[20000 rows x 96 columns]"
      ]
     },
     "execution_count": 10,
     "metadata": {},
     "output_type": "execute_result"
    }
   ],
   "source": [
    "h5s_pandas[0]"
   ]
  },
  {
   "cell_type": "markdown",
   "metadata": {
    "id": "zvb0TsU-o9pj"
   },
   "source": [
    "Let's first explore some properties of the loaded movie clips and tracking data."
   ]
  },
  {
   "cell_type": "code",
   "execution_count": 11,
   "metadata": {
    "id": "dVFvCalJpFEH"
   },
   "outputs": [
    {
     "name": "stdout",
     "output_type": "stream",
     "text": [
      "Clip 1 is 200 seconds long at 100 fps. The frames are 192 px wide and 192 px high.\n",
      "Clip 2 is 200 seconds long at 100 fps. The frames are 192 px wide and 192 px high.\n",
      "\n",
      ".h5 file 0 has shape (20000, 96).\n",
      ".h5 file 1 has shape (20000, 96).\n",
      "\n",
      "\n",
      "Leap tracked 32 points on the fly. Why do you think we have 96 dimensions?\n"
     ]
    }
   ],
   "source": [
    "for i, m in enumerate(clips):\n",
    "    print(\n",
    "        \"Clip %i is %i seconds long at %i fps. \"\n",
    "        \"The frames are %i px wide and %i px high.\"\n",
    "        % (i + 1, m.duration, m.fps, m.w, m.h)\n",
    "    )\n",
    "print()\n",
    "for i, h5 in enumerate(h5s_pandas):\n",
    "    print(\".h5 file %i has shape %s.\" % (i, h5.shape))\n",
    "\n",
    "print(\"\\n\\nLeap tracked 32 points on the fly. Why do you think we have 96 dimensions?\")"
   ]
  },
  {
   "cell_type": "markdown",
   "metadata": {
    "id": "7I127x6Tpqg-"
   },
   "source": [
    "We can also use handy pandas functions ```.head()``` to look at the first few rows of the tracking dataset."
   ]
  },
  {
   "cell_type": "code",
   "execution_count": null,
   "metadata": {
    "id": "rvet0Rz_pgTX"
   },
   "outputs": [
    {
     "ename": "",
     "evalue": "",
     "output_type": "error",
     "traceback": [
      "\u001b[1;31mnotebook controller is DISPOSED. \n",
      "\u001b[1;31mView Jupyter <a href='command:jupyter.viewOutput'>log</a> for further details."
     ]
    }
   ],
   "source": [
    "h5s_pandas[0].head()"
   ]
  },
  {
   "cell_type": "markdown",
   "metadata": {
    "id": "w8MT3KI4sbsT"
   },
   "source": [
    "It seems like the .h5 files have 32 bodyparts tracked, and there are 3 columns for each of the tracked bodyparts. They contain the `x` and `y` positions, as well as the *likelihood* value of the tracked position of each part. \n",
    "\n",
    "We'll ditch pandas now, and convert these datasets to numpy arrays since they're more intuitive to work with. Let's also remove all the likelihood columns in these numpy arrays (so every third column). "
   ]
  },
  {
   "cell_type": "code",
   "execution_count": 12,
   "metadata": {
    "id": "3vVAe5xrpguP"
   },
   "outputs": [
    {
     "name": "stdout",
     "output_type": "stream",
     "text": [
      "[ True  True False  True  True False  True  True False  True  True False\n",
      "  True  True False  True  True False  True  True False  True  True False\n",
      "  True  True False  True  True False  True  True False  True  True False\n",
      "  True  True False  True  True False  True  True False  True  True False\n",
      "  True  True False  True  True False  True  True False  True  True False\n",
      "  True  True False  True  True False  True  True False  True  True False\n",
      "  True  True False  True  True False  True  True False  True  True False\n",
      "  True  True False  True  True False  True  True False  True  True False]\n"
     ]
    }
   ],
   "source": [
    "# We're removing every 3rd column since that contains the likelihood values\n",
    "inds_to_keep = np.mod(np.arange(1, h5.shape[1] + 1), 3) != 0\n",
    "print(inds_to_keep)\n",
    "\n",
    "h5s = [h5.values[:, inds_to_keep] for h5 in h5s_pandas]"
   ]
  },
  {
   "cell_type": "markdown",
   "metadata": {
    "id": "G5V1V0dIOOho"
   },
   "source": [
    "Lets check what the arrays look like "
   ]
  },
  {
   "cell_type": "code",
   "execution_count": null,
   "metadata": {
    "id": "7O7wXmmUOSFX"
   },
   "outputs": [
    {
     "ename": "",
     "evalue": "",
     "output_type": "error",
     "traceback": [
      "\u001b[1;31mnotebook controller is DISPOSED. \n",
      "\u001b[1;31mView Jupyter <a href='command:jupyter.viewOutput'>log</a> for further details."
     ]
    }
   ],
   "source": [
    "print([h5.shape for h5 in h5s])"
   ]
  },
  {
   "cell_type": "markdown",
   "metadata": {
    "id": "CrR49UxQzvLV"
   },
   "source": [
    "To remove erratic tracking errors, we can median filter our data. We'll do that below and also reshape the data so that it is easier to work with."
   ]
  },
  {
   "cell_type": "code",
   "execution_count": null,
   "metadata": {
    "id": "OApbAjNccqne"
   },
   "outputs": [
    {
     "ename": "",
     "evalue": "",
     "output_type": "error",
     "traceback": [
      "\u001b[1;31mnotebook controller is DISPOSED. \n",
      "\u001b[1;31mView Jupyter <a href='command:jupyter.viewOutput'>log</a> for further details."
     ]
    }
   ],
   "source": [
    "plt.figure(figsize=(14, 5))\n",
    "plt.plot(h5s[0][:1000, :10])"
   ]
  },
  {
   "cell_type": "code",
   "execution_count": 13,
   "metadata": {
    "id": "SQalJEe1zupe"
   },
   "outputs": [
    {
     "name": "stdout",
     "output_type": "stream",
     "text": [
      "New shapes : [(20000, 32, 2), (20000, 32, 2)]\n"
     ]
    }
   ],
   "source": [
    "# Reshape the arrays so that they are easier to work with.\n",
    "h5s = [median_filter(x, size=(5, 1)) for x in h5s]\n",
    "\n",
    "h5s = [i.reshape((-1, i.shape[1] // 2, 2)) for i in h5s]\n",
    "print(\"New shapes : %s\" % ([i.shape for i in h5s]))"
   ]
  },
  {
   "cell_type": "code",
   "execution_count": null,
   "metadata": {
    "id": "znSkY15gdIhz"
   },
   "outputs": [
    {
     "ename": "",
     "evalue": "",
     "output_type": "error",
     "traceback": [
      "\u001b[1;31mnotebook controller is DISPOSED. \n",
      "\u001b[1;31mView Jupyter <a href='command:jupyter.viewOutput'>log</a> for further details."
     ]
    }
   ],
   "source": [
    "plt.figure(figsize=(14, 5))\n",
    "plt.plot(h5s[0][:1000, 0])"
   ]
  },
  {
   "cell_type": "markdown",
   "metadata": {
    "id": "KvLpuxIa0GWY"
   },
   "source": [
    "Great! Now we are ready to plot and see what our dataset looks like. Below we'll use `matplotlib` to overlay tracking data on the video files. We'll read video frames using moviepy `videofileclip` objects stored in `clips`. Running this cell may take upto **1 minute**.\n",
    "\n"
   ]
  },
  {
   "cell_type": "code",
   "execution_count": 14,
   "metadata": {
    "id": "jqNz3zDXqA9C"
   },
   "outputs": [
    {
     "name": "stdout",
     "output_type": "stream",
     "text": [
      "Moviepy - Building video __temp__.mp4.\n",
      "Moviepy - Writing video __temp__.mp4\n",
      "\n"
     ]
    },
    {
     "name": "stderr",
     "output_type": "stream",
     "text": [
      "t:   1%|▏         | 5/400 [00:01<01:33,  4.22it/s, now=None]"
     ]
    },
    {
     "ename": "KeyboardInterrupt",
     "evalue": "",
     "output_type": "error",
     "traceback": [
      "\u001b[0;31m---------------------------------------------------------------------------\u001b[0m",
      "\u001b[0;31mKeyboardInterrupt\u001b[0m                         Traceback (most recent call last)",
      "\u001b[0;32m/tmp/ipykernel_572103/59703421.py\u001b[0m in \u001b[0;36m<module>\u001b[0;34m\u001b[0m\n\u001b[1;32m     28\u001b[0m \u001b[0manim\u001b[0m \u001b[0;34m=\u001b[0m \u001b[0mVideoClip\u001b[0m\u001b[0;34m(\u001b[0m\u001b[0manimate\u001b[0m\u001b[0;34m,\u001b[0m \u001b[0mduration\u001b[0m\u001b[0;34m=\u001b[0m\u001b[0;36m20\u001b[0m\u001b[0;34m)\u001b[0m\u001b[0;34m\u001b[0m\u001b[0;34m\u001b[0m\u001b[0m\n\u001b[1;32m     29\u001b[0m \u001b[0mplt\u001b[0m\u001b[0;34m.\u001b[0m\u001b[0mclose\u001b[0m\u001b[0;34m(\u001b[0m\u001b[0;34m)\u001b[0m\u001b[0;34m\u001b[0m\u001b[0;34m\u001b[0m\u001b[0m\n\u001b[0;32m---> 30\u001b[0;31m \u001b[0manim\u001b[0m\u001b[0;34m.\u001b[0m\u001b[0mipython_display\u001b[0m\u001b[0;34m(\u001b[0m\u001b[0mfps\u001b[0m\u001b[0;34m=\u001b[0m\u001b[0;36m20\u001b[0m\u001b[0;34m,\u001b[0m \u001b[0mloop\u001b[0m\u001b[0;34m=\u001b[0m\u001b[0;32mTrue\u001b[0m\u001b[0;34m,\u001b[0m \u001b[0mautoplay\u001b[0m\u001b[0;34m=\u001b[0m\u001b[0;32mTrue\u001b[0m\u001b[0;34m)\u001b[0m\u001b[0;34m\u001b[0m\u001b[0;34m\u001b[0m\u001b[0m\n\u001b[0m",
      "\u001b[0;32m~/.conda/envs/sleap_dev/lib/python3.7/site-packages/moviepy/video/io/html_tools.py\u001b[0m in \u001b[0;36mipython_display\u001b[0;34m(clip, filetype, maxduration, t, fps, rd_kwargs, center, **html_kwargs)\u001b[0m\n\u001b[1;32m    219\u001b[0m \u001b[0;34m\u001b[0m\u001b[0m\n\u001b[1;32m    220\u001b[0m     return HTML2(html_embed(clip, filetype=filetype, maxduration=maxduration,\n\u001b[0;32m--> 221\u001b[0;31m                 center=center, rd_kwargs=rd_kwargs, **html_kwargs))\n\u001b[0m",
      "\u001b[0;32m~/.conda/envs/sleap_dev/lib/python3.7/site-packages/moviepy/video/io/html_tools.py\u001b[0m in \u001b[0;36mhtml_embed\u001b[0;34m(clip, filetype, maxduration, rd_kwargs, center, **html_kwargs)\u001b[0m\n\u001b[1;32m     96\u001b[0m             \u001b[0mkwargs\u001b[0m \u001b[0;34m=\u001b[0m \u001b[0;34m{\u001b[0m\u001b[0;34m'filename'\u001b[0m\u001b[0;34m:\u001b[0m\u001b[0mfilename\u001b[0m\u001b[0;34m,\u001b[0m \u001b[0;34m'verbose'\u001b[0m\u001b[0;34m:\u001b[0m\u001b[0;32mFalse\u001b[0m\u001b[0;34m,\u001b[0m \u001b[0;34m'preset'\u001b[0m\u001b[0;34m:\u001b[0m\u001b[0;34m'ultrafast'\u001b[0m\u001b[0;34m}\u001b[0m\u001b[0;34m\u001b[0m\u001b[0;34m\u001b[0m\u001b[0m\n\u001b[1;32m     97\u001b[0m             \u001b[0mkwargs\u001b[0m\u001b[0;34m.\u001b[0m\u001b[0mupdate\u001b[0m\u001b[0;34m(\u001b[0m\u001b[0mrd_kwargs\u001b[0m\u001b[0;34m)\u001b[0m\u001b[0;34m\u001b[0m\u001b[0;34m\u001b[0m\u001b[0m\n\u001b[0;32m---> 98\u001b[0;31m             \u001b[0mclip\u001b[0m\u001b[0;34m.\u001b[0m\u001b[0mwrite_videofile\u001b[0m\u001b[0;34m(\u001b[0m\u001b[0;34m**\u001b[0m\u001b[0mkwargs\u001b[0m\u001b[0;34m)\u001b[0m\u001b[0;34m\u001b[0m\u001b[0;34m\u001b[0m\u001b[0m\n\u001b[0m\u001b[1;32m     99\u001b[0m         \u001b[0;32melif\u001b[0m \u001b[0misinstance\u001b[0m\u001b[0;34m(\u001b[0m\u001b[0mclip\u001b[0m\u001b[0;34m,\u001b[0m\u001b[0mAudioClip\u001b[0m\u001b[0;34m)\u001b[0m\u001b[0;34m:\u001b[0m\u001b[0;34m\u001b[0m\u001b[0;34m\u001b[0m\u001b[0m\n\u001b[1;32m    100\u001b[0m             \u001b[0mfilename\u001b[0m \u001b[0;34m=\u001b[0m \u001b[0mTEMP_PREFIX\u001b[0m\u001b[0;34m+\u001b[0m\u001b[0;34m\".mp3\"\u001b[0m\u001b[0;34m\u001b[0m\u001b[0;34m\u001b[0m\u001b[0m\n",
      "\u001b[0;32m<decorator-gen-171>\u001b[0m in \u001b[0;36mwrite_videofile\u001b[0;34m(self, filename, fps, codec, bitrate, audio, audio_fps, preset, audio_nbytes, audio_codec, audio_bitrate, audio_bufsize, temp_audiofile, rewrite_audio, remove_temp, write_logfile, verbose, threads, ffmpeg_params, logger)\u001b[0m\n",
      "\u001b[0;32m~/.conda/envs/sleap_dev/lib/python3.7/site-packages/moviepy/decorators.py\u001b[0m in \u001b[0;36mrequires_duration\u001b[0;34m(f, clip, *a, **k)\u001b[0m\n\u001b[1;32m     52\u001b[0m         \u001b[0;32mraise\u001b[0m \u001b[0mValueError\u001b[0m\u001b[0;34m(\u001b[0m\u001b[0;34m\"Attribute 'duration' not set\"\u001b[0m\u001b[0;34m)\u001b[0m\u001b[0;34m\u001b[0m\u001b[0;34m\u001b[0m\u001b[0m\n\u001b[1;32m     53\u001b[0m     \u001b[0;32melse\u001b[0m\u001b[0;34m:\u001b[0m\u001b[0;34m\u001b[0m\u001b[0;34m\u001b[0m\u001b[0m\n\u001b[0;32m---> 54\u001b[0;31m         \u001b[0;32mreturn\u001b[0m \u001b[0mf\u001b[0m\u001b[0;34m(\u001b[0m\u001b[0mclip\u001b[0m\u001b[0;34m,\u001b[0m \u001b[0;34m*\u001b[0m\u001b[0ma\u001b[0m\u001b[0;34m,\u001b[0m \u001b[0;34m**\u001b[0m\u001b[0mk\u001b[0m\u001b[0;34m)\u001b[0m\u001b[0;34m\u001b[0m\u001b[0;34m\u001b[0m\u001b[0m\n\u001b[0m\u001b[1;32m     55\u001b[0m \u001b[0;34m\u001b[0m\u001b[0m\n\u001b[1;32m     56\u001b[0m \u001b[0;34m\u001b[0m\u001b[0m\n",
      "\u001b[0;32m<decorator-gen-170>\u001b[0m in \u001b[0;36mwrite_videofile\u001b[0;34m(self, filename, fps, codec, bitrate, audio, audio_fps, preset, audio_nbytes, audio_codec, audio_bitrate, audio_bufsize, temp_audiofile, rewrite_audio, remove_temp, write_logfile, verbose, threads, ffmpeg_params, logger)\u001b[0m\n",
      "\u001b[0;32m~/.conda/envs/sleap_dev/lib/python3.7/site-packages/moviepy/decorators.py\u001b[0m in \u001b[0;36muse_clip_fps_by_default\u001b[0;34m(f, clip, *a, **k)\u001b[0m\n\u001b[1;32m    133\u001b[0m              for (k,v) in k.items()}\n\u001b[1;32m    134\u001b[0m \u001b[0;34m\u001b[0m\u001b[0m\n\u001b[0;32m--> 135\u001b[0;31m     \u001b[0;32mreturn\u001b[0m \u001b[0mf\u001b[0m\u001b[0;34m(\u001b[0m\u001b[0mclip\u001b[0m\u001b[0;34m,\u001b[0m \u001b[0;34m*\u001b[0m\u001b[0mnew_a\u001b[0m\u001b[0;34m,\u001b[0m \u001b[0;34m**\u001b[0m\u001b[0mnew_kw\u001b[0m\u001b[0;34m)\u001b[0m\u001b[0;34m\u001b[0m\u001b[0;34m\u001b[0m\u001b[0m\n\u001b[0m",
      "\u001b[0;32m<decorator-gen-169>\u001b[0m in \u001b[0;36mwrite_videofile\u001b[0;34m(self, filename, fps, codec, bitrate, audio, audio_fps, preset, audio_nbytes, audio_codec, audio_bitrate, audio_bufsize, temp_audiofile, rewrite_audio, remove_temp, write_logfile, verbose, threads, ffmpeg_params, logger)\u001b[0m\n",
      "\u001b[0;32m~/.conda/envs/sleap_dev/lib/python3.7/site-packages/moviepy/decorators.py\u001b[0m in \u001b[0;36mconvert_masks_to_RGB\u001b[0;34m(f, clip, *a, **k)\u001b[0m\n\u001b[1;32m     20\u001b[0m     \u001b[0;32mif\u001b[0m \u001b[0mclip\u001b[0m\u001b[0;34m.\u001b[0m\u001b[0mismask\u001b[0m\u001b[0;34m:\u001b[0m\u001b[0;34m\u001b[0m\u001b[0;34m\u001b[0m\u001b[0m\n\u001b[1;32m     21\u001b[0m         \u001b[0mclip\u001b[0m \u001b[0;34m=\u001b[0m \u001b[0mclip\u001b[0m\u001b[0;34m.\u001b[0m\u001b[0mto_RGB\u001b[0m\u001b[0;34m(\u001b[0m\u001b[0;34m)\u001b[0m\u001b[0;34m\u001b[0m\u001b[0;34m\u001b[0m\u001b[0m\n\u001b[0;32m---> 22\u001b[0;31m     \u001b[0;32mreturn\u001b[0m \u001b[0mf\u001b[0m\u001b[0;34m(\u001b[0m\u001b[0mclip\u001b[0m\u001b[0;34m,\u001b[0m \u001b[0;34m*\u001b[0m\u001b[0ma\u001b[0m\u001b[0;34m,\u001b[0m \u001b[0;34m**\u001b[0m\u001b[0mk\u001b[0m\u001b[0;34m)\u001b[0m\u001b[0;34m\u001b[0m\u001b[0;34m\u001b[0m\u001b[0m\n\u001b[0m\u001b[1;32m     23\u001b[0m \u001b[0;34m\u001b[0m\u001b[0m\n\u001b[1;32m     24\u001b[0m \u001b[0;34m@\u001b[0m\u001b[0mdecorator\u001b[0m\u001b[0;34m.\u001b[0m\u001b[0mdecorator\u001b[0m\u001b[0;34m\u001b[0m\u001b[0;34m\u001b[0m\u001b[0m\n",
      "\u001b[0;32m~/.conda/envs/sleap_dev/lib/python3.7/site-packages/moviepy/video/VideoClip.py\u001b[0m in \u001b[0;36mwrite_videofile\u001b[0;34m(self, filename, fps, codec, bitrate, audio, audio_fps, preset, audio_nbytes, audio_codec, audio_bitrate, audio_bufsize, temp_audiofile, rewrite_audio, remove_temp, write_logfile, verbose, threads, ffmpeg_params, logger)\u001b[0m\n\u001b[1;32m    305\u001b[0m                            \u001b[0mverbose\u001b[0m\u001b[0;34m=\u001b[0m\u001b[0mverbose\u001b[0m\u001b[0;34m,\u001b[0m \u001b[0mthreads\u001b[0m\u001b[0;34m=\u001b[0m\u001b[0mthreads\u001b[0m\u001b[0;34m,\u001b[0m\u001b[0;34m\u001b[0m\u001b[0;34m\u001b[0m\u001b[0m\n\u001b[1;32m    306\u001b[0m                            \u001b[0mffmpeg_params\u001b[0m\u001b[0;34m=\u001b[0m\u001b[0mffmpeg_params\u001b[0m\u001b[0;34m,\u001b[0m\u001b[0;34m\u001b[0m\u001b[0;34m\u001b[0m\u001b[0m\n\u001b[0;32m--> 307\u001b[0;31m                            logger=logger)\n\u001b[0m\u001b[1;32m    308\u001b[0m \u001b[0;34m\u001b[0m\u001b[0m\n\u001b[1;32m    309\u001b[0m         \u001b[0;32mif\u001b[0m \u001b[0mremove_temp\u001b[0m \u001b[0;32mand\u001b[0m \u001b[0mmake_audio\u001b[0m\u001b[0;34m:\u001b[0m\u001b[0;34m\u001b[0m\u001b[0;34m\u001b[0m\u001b[0m\n",
      "\u001b[0;32m~/.conda/envs/sleap_dev/lib/python3.7/site-packages/moviepy/video/io/ffmpeg_writer.py\u001b[0m in \u001b[0;36mffmpeg_write_video\u001b[0;34m(clip, filename, fps, codec, bitrate, preset, withmask, write_logfile, audiofile, verbose, threads, ffmpeg_params, logger)\u001b[0m\n\u001b[1;32m    219\u001b[0m \u001b[0;34m\u001b[0m\u001b[0m\n\u001b[1;32m    220\u001b[0m         for t,frame in clip.iter_frames(logger=logger, with_times=True,\n\u001b[0;32m--> 221\u001b[0;31m                                         fps=fps, dtype=\"uint8\"):\n\u001b[0m\u001b[1;32m    222\u001b[0m             \u001b[0;32mif\u001b[0m \u001b[0mwithmask\u001b[0m\u001b[0;34m:\u001b[0m\u001b[0;34m\u001b[0m\u001b[0;34m\u001b[0m\u001b[0m\n\u001b[1;32m    223\u001b[0m                 \u001b[0mmask\u001b[0m \u001b[0;34m=\u001b[0m \u001b[0;34m(\u001b[0m\u001b[0;36m255\u001b[0m\u001b[0;34m*\u001b[0m\u001b[0mclip\u001b[0m\u001b[0;34m.\u001b[0m\u001b[0mmask\u001b[0m\u001b[0;34m.\u001b[0m\u001b[0mget_frame\u001b[0m\u001b[0;34m(\u001b[0m\u001b[0mt\u001b[0m\u001b[0;34m)\u001b[0m\u001b[0;34m)\u001b[0m\u001b[0;34m\u001b[0m\u001b[0;34m\u001b[0m\u001b[0m\n",
      "\u001b[0;32m~/.conda/envs/sleap_dev/lib/python3.7/site-packages/moviepy/Clip.py\u001b[0m in \u001b[0;36miter_frames\u001b[0;34m(self, fps, with_times, logger, dtype)\u001b[0m\n\u001b[1;32m    470\u001b[0m         \u001b[0mlogger\u001b[0m \u001b[0;34m=\u001b[0m \u001b[0mproglog\u001b[0m\u001b[0;34m.\u001b[0m\u001b[0mdefault_bar_logger\u001b[0m\u001b[0;34m(\u001b[0m\u001b[0mlogger\u001b[0m\u001b[0;34m)\u001b[0m\u001b[0;34m\u001b[0m\u001b[0;34m\u001b[0m\u001b[0m\n\u001b[1;32m    471\u001b[0m         \u001b[0;32mfor\u001b[0m \u001b[0mt\u001b[0m \u001b[0;32min\u001b[0m \u001b[0mlogger\u001b[0m\u001b[0;34m.\u001b[0m\u001b[0miter_bar\u001b[0m\u001b[0;34m(\u001b[0m\u001b[0mt\u001b[0m\u001b[0;34m=\u001b[0m\u001b[0mnp\u001b[0m\u001b[0;34m.\u001b[0m\u001b[0marange\u001b[0m\u001b[0;34m(\u001b[0m\u001b[0;36m0\u001b[0m\u001b[0;34m,\u001b[0m \u001b[0mself\u001b[0m\u001b[0;34m.\u001b[0m\u001b[0mduration\u001b[0m\u001b[0;34m,\u001b[0m \u001b[0;36m1.0\u001b[0m\u001b[0;34m/\u001b[0m\u001b[0mfps\u001b[0m\u001b[0;34m)\u001b[0m\u001b[0;34m)\u001b[0m\u001b[0;34m:\u001b[0m\u001b[0;34m\u001b[0m\u001b[0;34m\u001b[0m\u001b[0m\n\u001b[0;32m--> 472\u001b[0;31m             \u001b[0mframe\u001b[0m \u001b[0;34m=\u001b[0m \u001b[0mself\u001b[0m\u001b[0;34m.\u001b[0m\u001b[0mget_frame\u001b[0m\u001b[0;34m(\u001b[0m\u001b[0mt\u001b[0m\u001b[0;34m)\u001b[0m\u001b[0;34m\u001b[0m\u001b[0;34m\u001b[0m\u001b[0m\n\u001b[0m\u001b[1;32m    473\u001b[0m             \u001b[0;32mif\u001b[0m \u001b[0;34m(\u001b[0m\u001b[0mdtype\u001b[0m \u001b[0;32mis\u001b[0m \u001b[0;32mnot\u001b[0m \u001b[0;32mNone\u001b[0m\u001b[0;34m)\u001b[0m \u001b[0;32mand\u001b[0m \u001b[0;34m(\u001b[0m\u001b[0mframe\u001b[0m\u001b[0;34m.\u001b[0m\u001b[0mdtype\u001b[0m \u001b[0;34m!=\u001b[0m \u001b[0mdtype\u001b[0m\u001b[0;34m)\u001b[0m\u001b[0;34m:\u001b[0m\u001b[0;34m\u001b[0m\u001b[0;34m\u001b[0m\u001b[0m\n\u001b[1;32m    474\u001b[0m                 \u001b[0mframe\u001b[0m \u001b[0;34m=\u001b[0m \u001b[0mframe\u001b[0m\u001b[0;34m.\u001b[0m\u001b[0mastype\u001b[0m\u001b[0;34m(\u001b[0m\u001b[0mdtype\u001b[0m\u001b[0;34m)\u001b[0m\u001b[0;34m\u001b[0m\u001b[0;34m\u001b[0m\u001b[0m\n",
      "\u001b[0;32m<decorator-gen-127>\u001b[0m in \u001b[0;36mget_frame\u001b[0;34m(self, t)\u001b[0m\n",
      "\u001b[0;32m~/.conda/envs/sleap_dev/lib/python3.7/site-packages/moviepy/decorators.py\u001b[0m in \u001b[0;36mwrapper\u001b[0;34m(f, *a, **kw)\u001b[0m\n\u001b[1;32m     87\u001b[0m         new_kw = {k: fun(v) if k in varnames else v\n\u001b[1;32m     88\u001b[0m                  for (k,v) in kw.items()}\n\u001b[0;32m---> 89\u001b[0;31m         \u001b[0;32mreturn\u001b[0m \u001b[0mf\u001b[0m\u001b[0;34m(\u001b[0m\u001b[0;34m*\u001b[0m\u001b[0mnew_a\u001b[0m\u001b[0;34m,\u001b[0m \u001b[0;34m**\u001b[0m\u001b[0mnew_kw\u001b[0m\u001b[0;34m)\u001b[0m\u001b[0;34m\u001b[0m\u001b[0;34m\u001b[0m\u001b[0m\n\u001b[0m\u001b[1;32m     90\u001b[0m     \u001b[0;32mreturn\u001b[0m \u001b[0mdecorator\u001b[0m\u001b[0;34m.\u001b[0m\u001b[0mdecorator\u001b[0m\u001b[0;34m(\u001b[0m\u001b[0mwrapper\u001b[0m\u001b[0;34m)\u001b[0m\u001b[0;34m\u001b[0m\u001b[0;34m\u001b[0m\u001b[0m\n\u001b[1;32m     91\u001b[0m \u001b[0;34m\u001b[0m\u001b[0m\n",
      "\u001b[0;32m~/.conda/envs/sleap_dev/lib/python3.7/site-packages/moviepy/Clip.py\u001b[0m in \u001b[0;36mget_frame\u001b[0;34m(self, t)\u001b[0m\n\u001b[1;32m     91\u001b[0m                 \u001b[0;32mreturn\u001b[0m \u001b[0mframe\u001b[0m\u001b[0;34m\u001b[0m\u001b[0;34m\u001b[0m\u001b[0m\n\u001b[1;32m     92\u001b[0m         \u001b[0;32melse\u001b[0m\u001b[0;34m:\u001b[0m\u001b[0;34m\u001b[0m\u001b[0;34m\u001b[0m\u001b[0m\n\u001b[0;32m---> 93\u001b[0;31m             \u001b[0;32mreturn\u001b[0m \u001b[0mself\u001b[0m\u001b[0;34m.\u001b[0m\u001b[0mmake_frame\u001b[0m\u001b[0;34m(\u001b[0m\u001b[0mt\u001b[0m\u001b[0;34m)\u001b[0m\u001b[0;34m\u001b[0m\u001b[0;34m\u001b[0m\u001b[0m\n\u001b[0m\u001b[1;32m     94\u001b[0m \u001b[0;34m\u001b[0m\u001b[0m\n\u001b[1;32m     95\u001b[0m     \u001b[0;32mdef\u001b[0m \u001b[0mfl\u001b[0m\u001b[0;34m(\u001b[0m\u001b[0mself\u001b[0m\u001b[0;34m,\u001b[0m \u001b[0mfun\u001b[0m\u001b[0;34m,\u001b[0m \u001b[0mapply_to\u001b[0m\u001b[0;34m=\u001b[0m\u001b[0;32mNone\u001b[0m\u001b[0;34m,\u001b[0m \u001b[0mkeep_duration\u001b[0m\u001b[0;34m=\u001b[0m\u001b[0;32mTrue\u001b[0m\u001b[0;34m)\u001b[0m\u001b[0;34m:\u001b[0m\u001b[0;34m\u001b[0m\u001b[0;34m\u001b[0m\u001b[0m\n",
      "\u001b[0;32m/tmp/ipykernel_572103/59703421.py\u001b[0m in \u001b[0;36manimate\u001b[0;34m(t)\u001b[0m\n\u001b[1;32m     24\u001b[0m   \u001b[0max\u001b[0m\u001b[0;34m.\u001b[0m\u001b[0maxis\u001b[0m\u001b[0;34m(\u001b[0m\u001b[0;34m'off'\u001b[0m\u001b[0;34m)\u001b[0m\u001b[0;34m\u001b[0m\u001b[0;34m\u001b[0m\u001b[0m\n\u001b[1;32m     25\u001b[0m \u001b[0;34m\u001b[0m\u001b[0m\n\u001b[0;32m---> 26\u001b[0;31m   \u001b[0;32mreturn\u001b[0m \u001b[0mmplfig_to_npimage\u001b[0m\u001b[0;34m(\u001b[0m\u001b[0mfig\u001b[0m\u001b[0;34m)\u001b[0m\u001b[0;34m\u001b[0m\u001b[0;34m\u001b[0m\u001b[0m\n\u001b[0m\u001b[1;32m     27\u001b[0m \u001b[0;34m\u001b[0m\u001b[0m\n\u001b[1;32m     28\u001b[0m \u001b[0manim\u001b[0m \u001b[0;34m=\u001b[0m \u001b[0mVideoClip\u001b[0m\u001b[0;34m(\u001b[0m\u001b[0manimate\u001b[0m\u001b[0;34m,\u001b[0m \u001b[0mduration\u001b[0m\u001b[0;34m=\u001b[0m\u001b[0;36m20\u001b[0m\u001b[0;34m)\u001b[0m\u001b[0;34m\u001b[0m\u001b[0;34m\u001b[0m\u001b[0m\n",
      "\u001b[0;32m~/.conda/envs/sleap_dev/lib/python3.7/site-packages/moviepy/video/io/bindings.py\u001b[0m in \u001b[0;36mmplfig_to_npimage\u001b[0;34m(fig)\u001b[0m\n\u001b[1;32m     21\u001b[0m     \u001b[0;32mfrom\u001b[0m \u001b[0mmatplotlib\u001b[0m\u001b[0;34m.\u001b[0m\u001b[0mbackends\u001b[0m\u001b[0;34m.\u001b[0m\u001b[0mbackend_agg\u001b[0m \u001b[0;32mimport\u001b[0m \u001b[0mFigureCanvasAgg\u001b[0m\u001b[0;34m\u001b[0m\u001b[0;34m\u001b[0m\u001b[0m\n\u001b[1;32m     22\u001b[0m     \u001b[0mcanvas\u001b[0m \u001b[0;34m=\u001b[0m \u001b[0mFigureCanvasAgg\u001b[0m\u001b[0;34m(\u001b[0m\u001b[0mfig\u001b[0m\u001b[0;34m)\u001b[0m\u001b[0;34m\u001b[0m\u001b[0;34m\u001b[0m\u001b[0m\n\u001b[0;32m---> 23\u001b[0;31m     \u001b[0mcanvas\u001b[0m\u001b[0;34m.\u001b[0m\u001b[0mdraw\u001b[0m\u001b[0;34m(\u001b[0m\u001b[0;34m)\u001b[0m \u001b[0;31m# update/draw the elements\u001b[0m\u001b[0;34m\u001b[0m\u001b[0;34m\u001b[0m\u001b[0m\n\u001b[0m\u001b[1;32m     24\u001b[0m \u001b[0;34m\u001b[0m\u001b[0m\n\u001b[1;32m     25\u001b[0m     \u001b[0;31m# get the width and the height to resize the matrix\u001b[0m\u001b[0;34m\u001b[0m\u001b[0;34m\u001b[0m\u001b[0;34m\u001b[0m\u001b[0m\n",
      "\u001b[0;32m~/.conda/envs/sleap_dev/lib/python3.7/site-packages/matplotlib/backends/backend_agg.py\u001b[0m in \u001b[0;36mdraw\u001b[0;34m(self)\u001b[0m\n\u001b[1;32m    434\u001b[0m              (self.toolbar._wait_cursor_for_draw_cm() if self.toolbar\n\u001b[1;32m    435\u001b[0m               else nullcontext()):\n\u001b[0;32m--> 436\u001b[0;31m             \u001b[0mself\u001b[0m\u001b[0;34m.\u001b[0m\u001b[0mfigure\u001b[0m\u001b[0;34m.\u001b[0m\u001b[0mdraw\u001b[0m\u001b[0;34m(\u001b[0m\u001b[0mself\u001b[0m\u001b[0;34m.\u001b[0m\u001b[0mrenderer\u001b[0m\u001b[0;34m)\u001b[0m\u001b[0;34m\u001b[0m\u001b[0;34m\u001b[0m\u001b[0m\n\u001b[0m\u001b[1;32m    437\u001b[0m             \u001b[0;31m# A GUI class may be need to update a window using this draw, so\u001b[0m\u001b[0;34m\u001b[0m\u001b[0;34m\u001b[0m\u001b[0;34m\u001b[0m\u001b[0m\n\u001b[1;32m    438\u001b[0m             \u001b[0;31m# don't forget to call the superclass.\u001b[0m\u001b[0;34m\u001b[0m\u001b[0;34m\u001b[0m\u001b[0;34m\u001b[0m\u001b[0m\n",
      "\u001b[0;32m~/.conda/envs/sleap_dev/lib/python3.7/site-packages/matplotlib/artist.py\u001b[0m in \u001b[0;36mdraw_wrapper\u001b[0;34m(artist, renderer, *args, **kwargs)\u001b[0m\n\u001b[1;32m     71\u001b[0m     \u001b[0;34m@\u001b[0m\u001b[0mwraps\u001b[0m\u001b[0;34m(\u001b[0m\u001b[0mdraw\u001b[0m\u001b[0;34m)\u001b[0m\u001b[0;34m\u001b[0m\u001b[0;34m\u001b[0m\u001b[0m\n\u001b[1;32m     72\u001b[0m     \u001b[0;32mdef\u001b[0m \u001b[0mdraw_wrapper\u001b[0m\u001b[0;34m(\u001b[0m\u001b[0martist\u001b[0m\u001b[0;34m,\u001b[0m \u001b[0mrenderer\u001b[0m\u001b[0;34m,\u001b[0m \u001b[0;34m*\u001b[0m\u001b[0margs\u001b[0m\u001b[0;34m,\u001b[0m \u001b[0;34m**\u001b[0m\u001b[0mkwargs\u001b[0m\u001b[0;34m)\u001b[0m\u001b[0;34m:\u001b[0m\u001b[0;34m\u001b[0m\u001b[0;34m\u001b[0m\u001b[0m\n\u001b[0;32m---> 73\u001b[0;31m         \u001b[0mresult\u001b[0m \u001b[0;34m=\u001b[0m \u001b[0mdraw\u001b[0m\u001b[0;34m(\u001b[0m\u001b[0martist\u001b[0m\u001b[0;34m,\u001b[0m \u001b[0mrenderer\u001b[0m\u001b[0;34m,\u001b[0m \u001b[0;34m*\u001b[0m\u001b[0margs\u001b[0m\u001b[0;34m,\u001b[0m \u001b[0;34m**\u001b[0m\u001b[0mkwargs\u001b[0m\u001b[0;34m)\u001b[0m\u001b[0;34m\u001b[0m\u001b[0;34m\u001b[0m\u001b[0m\n\u001b[0m\u001b[1;32m     74\u001b[0m         \u001b[0;32mif\u001b[0m \u001b[0mrenderer\u001b[0m\u001b[0;34m.\u001b[0m\u001b[0m_rasterizing\u001b[0m\u001b[0;34m:\u001b[0m\u001b[0;34m\u001b[0m\u001b[0;34m\u001b[0m\u001b[0m\n\u001b[1;32m     75\u001b[0m             \u001b[0mrenderer\u001b[0m\u001b[0;34m.\u001b[0m\u001b[0mstop_rasterizing\u001b[0m\u001b[0;34m(\u001b[0m\u001b[0;34m)\u001b[0m\u001b[0;34m\u001b[0m\u001b[0;34m\u001b[0m\u001b[0m\n",
      "\u001b[0;32m~/.conda/envs/sleap_dev/lib/python3.7/site-packages/matplotlib/artist.py\u001b[0m in \u001b[0;36mdraw_wrapper\u001b[0;34m(artist, renderer)\u001b[0m\n\u001b[1;32m     48\u001b[0m                 \u001b[0mrenderer\u001b[0m\u001b[0;34m.\u001b[0m\u001b[0mstart_filter\u001b[0m\u001b[0;34m(\u001b[0m\u001b[0;34m)\u001b[0m\u001b[0;34m\u001b[0m\u001b[0;34m\u001b[0m\u001b[0m\n\u001b[1;32m     49\u001b[0m \u001b[0;34m\u001b[0m\u001b[0m\n\u001b[0;32m---> 50\u001b[0;31m             \u001b[0;32mreturn\u001b[0m \u001b[0mdraw\u001b[0m\u001b[0;34m(\u001b[0m\u001b[0martist\u001b[0m\u001b[0;34m,\u001b[0m \u001b[0mrenderer\u001b[0m\u001b[0;34m)\u001b[0m\u001b[0;34m\u001b[0m\u001b[0;34m\u001b[0m\u001b[0m\n\u001b[0m\u001b[1;32m     51\u001b[0m         \u001b[0;32mfinally\u001b[0m\u001b[0;34m:\u001b[0m\u001b[0;34m\u001b[0m\u001b[0;34m\u001b[0m\u001b[0m\n\u001b[1;32m     52\u001b[0m             \u001b[0;32mif\u001b[0m \u001b[0martist\u001b[0m\u001b[0;34m.\u001b[0m\u001b[0mget_agg_filter\u001b[0m\u001b[0;34m(\u001b[0m\u001b[0;34m)\u001b[0m \u001b[0;32mis\u001b[0m \u001b[0;32mnot\u001b[0m \u001b[0;32mNone\u001b[0m\u001b[0;34m:\u001b[0m\u001b[0;34m\u001b[0m\u001b[0;34m\u001b[0m\u001b[0m\n",
      "\u001b[0;32m~/.conda/envs/sleap_dev/lib/python3.7/site-packages/matplotlib/figure.py\u001b[0m in \u001b[0;36mdraw\u001b[0;34m(self, renderer)\u001b[0m\n\u001b[1;32m   2809\u001b[0m             \u001b[0mself\u001b[0m\u001b[0;34m.\u001b[0m\u001b[0mpatch\u001b[0m\u001b[0;34m.\u001b[0m\u001b[0mdraw\u001b[0m\u001b[0;34m(\u001b[0m\u001b[0mrenderer\u001b[0m\u001b[0;34m)\u001b[0m\u001b[0;34m\u001b[0m\u001b[0;34m\u001b[0m\u001b[0m\n\u001b[1;32m   2810\u001b[0m             mimage._draw_list_compositing_images(\n\u001b[0;32m-> 2811\u001b[0;31m                 renderer, self, artists, self.suppressComposite)\n\u001b[0m\u001b[1;32m   2812\u001b[0m \u001b[0;34m\u001b[0m\u001b[0m\n\u001b[1;32m   2813\u001b[0m             \u001b[0;32mfor\u001b[0m \u001b[0msfig\u001b[0m \u001b[0;32min\u001b[0m \u001b[0mself\u001b[0m\u001b[0;34m.\u001b[0m\u001b[0msubfigs\u001b[0m\u001b[0;34m:\u001b[0m\u001b[0;34m\u001b[0m\u001b[0;34m\u001b[0m\u001b[0m\n",
      "\u001b[0;32m~/.conda/envs/sleap_dev/lib/python3.7/site-packages/matplotlib/image.py\u001b[0m in \u001b[0;36m_draw_list_compositing_images\u001b[0;34m(renderer, parent, artists, suppress_composite)\u001b[0m\n\u001b[1;32m    130\u001b[0m     \u001b[0;32mif\u001b[0m \u001b[0mnot_composite\u001b[0m \u001b[0;32mor\u001b[0m \u001b[0;32mnot\u001b[0m \u001b[0mhas_images\u001b[0m\u001b[0;34m:\u001b[0m\u001b[0;34m\u001b[0m\u001b[0;34m\u001b[0m\u001b[0m\n\u001b[1;32m    131\u001b[0m         \u001b[0;32mfor\u001b[0m \u001b[0ma\u001b[0m \u001b[0;32min\u001b[0m \u001b[0martists\u001b[0m\u001b[0;34m:\u001b[0m\u001b[0;34m\u001b[0m\u001b[0;34m\u001b[0m\u001b[0m\n\u001b[0;32m--> 132\u001b[0;31m             \u001b[0ma\u001b[0m\u001b[0;34m.\u001b[0m\u001b[0mdraw\u001b[0m\u001b[0;34m(\u001b[0m\u001b[0mrenderer\u001b[0m\u001b[0;34m)\u001b[0m\u001b[0;34m\u001b[0m\u001b[0;34m\u001b[0m\u001b[0m\n\u001b[0m\u001b[1;32m    133\u001b[0m     \u001b[0;32melse\u001b[0m\u001b[0;34m:\u001b[0m\u001b[0;34m\u001b[0m\u001b[0;34m\u001b[0m\u001b[0m\n\u001b[1;32m    134\u001b[0m         \u001b[0;31m# Composite any adjacent images together\u001b[0m\u001b[0;34m\u001b[0m\u001b[0;34m\u001b[0m\u001b[0;34m\u001b[0m\u001b[0m\n",
      "\u001b[0;32m~/.conda/envs/sleap_dev/lib/python3.7/site-packages/matplotlib/artist.py\u001b[0m in \u001b[0;36mdraw_wrapper\u001b[0;34m(artist, renderer)\u001b[0m\n\u001b[1;32m     48\u001b[0m                 \u001b[0mrenderer\u001b[0m\u001b[0;34m.\u001b[0m\u001b[0mstart_filter\u001b[0m\u001b[0;34m(\u001b[0m\u001b[0;34m)\u001b[0m\u001b[0;34m\u001b[0m\u001b[0;34m\u001b[0m\u001b[0m\n\u001b[1;32m     49\u001b[0m \u001b[0;34m\u001b[0m\u001b[0m\n\u001b[0;32m---> 50\u001b[0;31m             \u001b[0;32mreturn\u001b[0m \u001b[0mdraw\u001b[0m\u001b[0;34m(\u001b[0m\u001b[0martist\u001b[0m\u001b[0;34m,\u001b[0m \u001b[0mrenderer\u001b[0m\u001b[0;34m)\u001b[0m\u001b[0;34m\u001b[0m\u001b[0;34m\u001b[0m\u001b[0m\n\u001b[0m\u001b[1;32m     51\u001b[0m         \u001b[0;32mfinally\u001b[0m\u001b[0;34m:\u001b[0m\u001b[0;34m\u001b[0m\u001b[0;34m\u001b[0m\u001b[0m\n\u001b[1;32m     52\u001b[0m             \u001b[0;32mif\u001b[0m \u001b[0martist\u001b[0m\u001b[0;34m.\u001b[0m\u001b[0mget_agg_filter\u001b[0m\u001b[0;34m(\u001b[0m\u001b[0;34m)\u001b[0m \u001b[0;32mis\u001b[0m \u001b[0;32mnot\u001b[0m \u001b[0;32mNone\u001b[0m\u001b[0;34m:\u001b[0m\u001b[0;34m\u001b[0m\u001b[0;34m\u001b[0m\u001b[0m\n",
      "\u001b[0;32m~/.conda/envs/sleap_dev/lib/python3.7/site-packages/matplotlib/axes/_base.py\u001b[0m in \u001b[0;36mdraw\u001b[0;34m(self, renderer)\u001b[0m\n\u001b[1;32m   3081\u001b[0m \u001b[0;34m\u001b[0m\u001b[0m\n\u001b[1;32m   3082\u001b[0m         mimage._draw_list_compositing_images(\n\u001b[0;32m-> 3083\u001b[0;31m             renderer, self, artists, self.figure.suppressComposite)\n\u001b[0m\u001b[1;32m   3084\u001b[0m \u001b[0;34m\u001b[0m\u001b[0m\n\u001b[1;32m   3085\u001b[0m         \u001b[0mrenderer\u001b[0m\u001b[0;34m.\u001b[0m\u001b[0mclose_group\u001b[0m\u001b[0;34m(\u001b[0m\u001b[0;34m'axes'\u001b[0m\u001b[0;34m)\u001b[0m\u001b[0;34m\u001b[0m\u001b[0;34m\u001b[0m\u001b[0m\n",
      "\u001b[0;32m~/.conda/envs/sleap_dev/lib/python3.7/site-packages/matplotlib/image.py\u001b[0m in \u001b[0;36m_draw_list_compositing_images\u001b[0;34m(renderer, parent, artists, suppress_composite)\u001b[0m\n\u001b[1;32m    130\u001b[0m     \u001b[0;32mif\u001b[0m \u001b[0mnot_composite\u001b[0m \u001b[0;32mor\u001b[0m \u001b[0;32mnot\u001b[0m \u001b[0mhas_images\u001b[0m\u001b[0;34m:\u001b[0m\u001b[0;34m\u001b[0m\u001b[0;34m\u001b[0m\u001b[0m\n\u001b[1;32m    131\u001b[0m         \u001b[0;32mfor\u001b[0m \u001b[0ma\u001b[0m \u001b[0;32min\u001b[0m \u001b[0martists\u001b[0m\u001b[0;34m:\u001b[0m\u001b[0;34m\u001b[0m\u001b[0;34m\u001b[0m\u001b[0m\n\u001b[0;32m--> 132\u001b[0;31m             \u001b[0ma\u001b[0m\u001b[0;34m.\u001b[0m\u001b[0mdraw\u001b[0m\u001b[0;34m(\u001b[0m\u001b[0mrenderer\u001b[0m\u001b[0;34m)\u001b[0m\u001b[0;34m\u001b[0m\u001b[0;34m\u001b[0m\u001b[0m\n\u001b[0m\u001b[1;32m    133\u001b[0m     \u001b[0;32melse\u001b[0m\u001b[0;34m:\u001b[0m\u001b[0;34m\u001b[0m\u001b[0;34m\u001b[0m\u001b[0m\n\u001b[1;32m    134\u001b[0m         \u001b[0;31m# Composite any adjacent images together\u001b[0m\u001b[0;34m\u001b[0m\u001b[0;34m\u001b[0m\u001b[0;34m\u001b[0m\u001b[0m\n",
      "\u001b[0;32m~/.conda/envs/sleap_dev/lib/python3.7/site-packages/matplotlib/artist.py\u001b[0m in \u001b[0;36mdraw_wrapper\u001b[0;34m(artist, renderer)\u001b[0m\n\u001b[1;32m     48\u001b[0m                 \u001b[0mrenderer\u001b[0m\u001b[0;34m.\u001b[0m\u001b[0mstart_filter\u001b[0m\u001b[0;34m(\u001b[0m\u001b[0;34m)\u001b[0m\u001b[0;34m\u001b[0m\u001b[0;34m\u001b[0m\u001b[0m\n\u001b[1;32m     49\u001b[0m \u001b[0;34m\u001b[0m\u001b[0m\n\u001b[0;32m---> 50\u001b[0;31m             \u001b[0;32mreturn\u001b[0m \u001b[0mdraw\u001b[0m\u001b[0;34m(\u001b[0m\u001b[0martist\u001b[0m\u001b[0;34m,\u001b[0m \u001b[0mrenderer\u001b[0m\u001b[0;34m)\u001b[0m\u001b[0;34m\u001b[0m\u001b[0;34m\u001b[0m\u001b[0m\n\u001b[0m\u001b[1;32m     51\u001b[0m         \u001b[0;32mfinally\u001b[0m\u001b[0;34m:\u001b[0m\u001b[0;34m\u001b[0m\u001b[0;34m\u001b[0m\u001b[0m\n\u001b[1;32m     52\u001b[0m             \u001b[0;32mif\u001b[0m \u001b[0martist\u001b[0m\u001b[0;34m.\u001b[0m\u001b[0mget_agg_filter\u001b[0m\u001b[0;34m(\u001b[0m\u001b[0;34m)\u001b[0m \u001b[0;32mis\u001b[0m \u001b[0;32mnot\u001b[0m \u001b[0;32mNone\u001b[0m\u001b[0;34m:\u001b[0m\u001b[0;34m\u001b[0m\u001b[0;34m\u001b[0m\u001b[0m\n",
      "\u001b[0;32m~/.conda/envs/sleap_dev/lib/python3.7/site-packages/matplotlib/collections.py\u001b[0m in \u001b[0;36mdraw\u001b[0;34m(self, renderer)\u001b[0m\n\u001b[1;32m    989\u001b[0m     \u001b[0;32mdef\u001b[0m \u001b[0mdraw\u001b[0m\u001b[0;34m(\u001b[0m\u001b[0mself\u001b[0m\u001b[0;34m,\u001b[0m \u001b[0mrenderer\u001b[0m\u001b[0;34m)\u001b[0m\u001b[0;34m:\u001b[0m\u001b[0;34m\u001b[0m\u001b[0;34m\u001b[0m\u001b[0m\n\u001b[1;32m    990\u001b[0m         \u001b[0mself\u001b[0m\u001b[0;34m.\u001b[0m\u001b[0mset_sizes\u001b[0m\u001b[0;34m(\u001b[0m\u001b[0mself\u001b[0m\u001b[0;34m.\u001b[0m\u001b[0m_sizes\u001b[0m\u001b[0;34m,\u001b[0m \u001b[0mself\u001b[0m\u001b[0;34m.\u001b[0m\u001b[0mfigure\u001b[0m\u001b[0;34m.\u001b[0m\u001b[0mdpi\u001b[0m\u001b[0;34m)\u001b[0m\u001b[0;34m\u001b[0m\u001b[0;34m\u001b[0m\u001b[0m\n\u001b[0;32m--> 991\u001b[0;31m         \u001b[0msuper\u001b[0m\u001b[0;34m(\u001b[0m\u001b[0;34m)\u001b[0m\u001b[0;34m.\u001b[0m\u001b[0mdraw\u001b[0m\u001b[0;34m(\u001b[0m\u001b[0mrenderer\u001b[0m\u001b[0;34m)\u001b[0m\u001b[0;34m\u001b[0m\u001b[0;34m\u001b[0m\u001b[0m\n\u001b[0m\u001b[1;32m    992\u001b[0m \u001b[0;34m\u001b[0m\u001b[0m\n\u001b[1;32m    993\u001b[0m \u001b[0;34m\u001b[0m\u001b[0m\n",
      "\u001b[0;32m~/.conda/envs/sleap_dev/lib/python3.7/site-packages/matplotlib/artist.py\u001b[0m in \u001b[0;36mdraw_wrapper\u001b[0;34m(artist, renderer)\u001b[0m\n\u001b[1;32m     48\u001b[0m                 \u001b[0mrenderer\u001b[0m\u001b[0;34m.\u001b[0m\u001b[0mstart_filter\u001b[0m\u001b[0;34m(\u001b[0m\u001b[0;34m)\u001b[0m\u001b[0;34m\u001b[0m\u001b[0;34m\u001b[0m\u001b[0m\n\u001b[1;32m     49\u001b[0m \u001b[0;34m\u001b[0m\u001b[0m\n\u001b[0;32m---> 50\u001b[0;31m             \u001b[0;32mreturn\u001b[0m \u001b[0mdraw\u001b[0m\u001b[0;34m(\u001b[0m\u001b[0martist\u001b[0m\u001b[0;34m,\u001b[0m \u001b[0mrenderer\u001b[0m\u001b[0;34m)\u001b[0m\u001b[0;34m\u001b[0m\u001b[0;34m\u001b[0m\u001b[0m\n\u001b[0m\u001b[1;32m     51\u001b[0m         \u001b[0;32mfinally\u001b[0m\u001b[0;34m:\u001b[0m\u001b[0;34m\u001b[0m\u001b[0;34m\u001b[0m\u001b[0m\n\u001b[1;32m     52\u001b[0m             \u001b[0;32mif\u001b[0m \u001b[0martist\u001b[0m\u001b[0;34m.\u001b[0m\u001b[0mget_agg_filter\u001b[0m\u001b[0;34m(\u001b[0m\u001b[0;34m)\u001b[0m \u001b[0;32mis\u001b[0m \u001b[0;32mnot\u001b[0m \u001b[0;32mNone\u001b[0m\u001b[0;34m:\u001b[0m\u001b[0;34m\u001b[0m\u001b[0;34m\u001b[0m\u001b[0m\n",
      "\u001b[0;32m~/.conda/envs/sleap_dev/lib/python3.7/site-packages/matplotlib/collections.py\u001b[0m in \u001b[0;36mdraw\u001b[0;34m(self, renderer)\u001b[0m\n\u001b[1;32m    403\u001b[0m             \u001b[0;32melse\u001b[0m\u001b[0;34m:\u001b[0m\u001b[0;34m\u001b[0m\u001b[0;34m\u001b[0m\u001b[0m\n\u001b[1;32m    404\u001b[0m                 \u001b[0mcombined_transform\u001b[0m \u001b[0;34m=\u001b[0m \u001b[0mtransform\u001b[0m\u001b[0;34m\u001b[0m\u001b[0;34m\u001b[0m\u001b[0m\n\u001b[0;32m--> 405\u001b[0;31m             \u001b[0mextents\u001b[0m \u001b[0;34m=\u001b[0m \u001b[0mpaths\u001b[0m\u001b[0;34m[\u001b[0m\u001b[0;36m0\u001b[0m\u001b[0;34m]\u001b[0m\u001b[0;34m.\u001b[0m\u001b[0mget_extents\u001b[0m\u001b[0;34m(\u001b[0m\u001b[0mcombined_transform\u001b[0m\u001b[0;34m)\u001b[0m\u001b[0;34m\u001b[0m\u001b[0;34m\u001b[0m\u001b[0m\n\u001b[0m\u001b[1;32m    406\u001b[0m             if (extents.width < self.figure.bbox.width\n\u001b[1;32m    407\u001b[0m                     and extents.height < self.figure.bbox.height):\n",
      "\u001b[0;32m~/.conda/envs/sleap_dev/lib/python3.7/site-packages/matplotlib/path.py\u001b[0m in \u001b[0;36mget_extents\u001b[0;34m(self, transform, **kwargs)\u001b[0m\n\u001b[1;32m    626\u001b[0m             \u001b[0;32mfor\u001b[0m \u001b[0mcurve\u001b[0m\u001b[0;34m,\u001b[0m \u001b[0mcode\u001b[0m \u001b[0;32min\u001b[0m \u001b[0mself\u001b[0m\u001b[0;34m.\u001b[0m\u001b[0miter_bezier\u001b[0m\u001b[0;34m(\u001b[0m\u001b[0;34m**\u001b[0m\u001b[0mkwargs\u001b[0m\u001b[0;34m)\u001b[0m\u001b[0;34m:\u001b[0m\u001b[0;34m\u001b[0m\u001b[0;34m\u001b[0m\u001b[0m\n\u001b[1;32m    627\u001b[0m                 \u001b[0;31m# places where the derivative is zero can be extrema\u001b[0m\u001b[0;34m\u001b[0m\u001b[0;34m\u001b[0m\u001b[0;34m\u001b[0m\u001b[0m\n\u001b[0;32m--> 628\u001b[0;31m                 \u001b[0m_\u001b[0m\u001b[0;34m,\u001b[0m \u001b[0mdzeros\u001b[0m \u001b[0;34m=\u001b[0m \u001b[0mcurve\u001b[0m\u001b[0;34m.\u001b[0m\u001b[0maxis_aligned_extrema\u001b[0m\u001b[0;34m(\u001b[0m\u001b[0;34m)\u001b[0m\u001b[0;34m\u001b[0m\u001b[0;34m\u001b[0m\u001b[0m\n\u001b[0m\u001b[1;32m    629\u001b[0m                 \u001b[0;31m# as can the ends of the curve\u001b[0m\u001b[0;34m\u001b[0m\u001b[0;34m\u001b[0m\u001b[0;34m\u001b[0m\u001b[0m\n\u001b[1;32m    630\u001b[0m                 \u001b[0mxys\u001b[0m\u001b[0;34m.\u001b[0m\u001b[0mappend\u001b[0m\u001b[0;34m(\u001b[0m\u001b[0mcurve\u001b[0m\u001b[0;34m(\u001b[0m\u001b[0;34m[\u001b[0m\u001b[0;36m0\u001b[0m\u001b[0;34m,\u001b[0m \u001b[0;34m*\u001b[0m\u001b[0mdzeros\u001b[0m\u001b[0;34m,\u001b[0m \u001b[0;36m1\u001b[0m\u001b[0;34m]\u001b[0m\u001b[0;34m)\u001b[0m\u001b[0;34m)\u001b[0m\u001b[0;34m\u001b[0m\u001b[0;34m\u001b[0m\u001b[0m\n",
      "\u001b[0;32m~/.conda/envs/sleap_dev/lib/python3.7/site-packages/matplotlib/bezier.py\u001b[0m in \u001b[0;36maxis_aligned_extrema\u001b[0;34m(self)\u001b[0m\n\u001b[1;32m    298\u001b[0m         \u001b[0mroots\u001b[0m \u001b[0;34m=\u001b[0m \u001b[0;34m[\u001b[0m\u001b[0;34m]\u001b[0m\u001b[0;34m\u001b[0m\u001b[0;34m\u001b[0m\u001b[0m\n\u001b[1;32m    299\u001b[0m         \u001b[0;32mfor\u001b[0m \u001b[0mi\u001b[0m\u001b[0;34m,\u001b[0m \u001b[0mpi\u001b[0m \u001b[0;32min\u001b[0m \u001b[0menumerate\u001b[0m\u001b[0;34m(\u001b[0m\u001b[0mdCj\u001b[0m\u001b[0;34m.\u001b[0m\u001b[0mT\u001b[0m\u001b[0;34m)\u001b[0m\u001b[0;34m:\u001b[0m\u001b[0;34m\u001b[0m\u001b[0;34m\u001b[0m\u001b[0m\n\u001b[0;32m--> 300\u001b[0;31m             \u001b[0mr\u001b[0m \u001b[0;34m=\u001b[0m \u001b[0mnp\u001b[0m\u001b[0;34m.\u001b[0m\u001b[0mroots\u001b[0m\u001b[0;34m(\u001b[0m\u001b[0mpi\u001b[0m\u001b[0;34m[\u001b[0m\u001b[0;34m:\u001b[0m\u001b[0;34m:\u001b[0m\u001b[0;34m-\u001b[0m\u001b[0;36m1\u001b[0m\u001b[0;34m]\u001b[0m\u001b[0;34m)\u001b[0m\u001b[0;34m\u001b[0m\u001b[0;34m\u001b[0m\u001b[0m\n\u001b[0m\u001b[1;32m    301\u001b[0m             \u001b[0mroots\u001b[0m\u001b[0;34m.\u001b[0m\u001b[0mappend\u001b[0m\u001b[0;34m(\u001b[0m\u001b[0mr\u001b[0m\u001b[0;34m)\u001b[0m\u001b[0;34m\u001b[0m\u001b[0;34m\u001b[0m\u001b[0m\n\u001b[1;32m    302\u001b[0m             \u001b[0mdims\u001b[0m\u001b[0;34m.\u001b[0m\u001b[0mappend\u001b[0m\u001b[0;34m(\u001b[0m\u001b[0mnp\u001b[0m\u001b[0;34m.\u001b[0m\u001b[0mfull_like\u001b[0m\u001b[0;34m(\u001b[0m\u001b[0mr\u001b[0m\u001b[0;34m,\u001b[0m \u001b[0mi\u001b[0m\u001b[0;34m)\u001b[0m\u001b[0;34m)\u001b[0m\u001b[0;34m\u001b[0m\u001b[0;34m\u001b[0m\u001b[0m\n",
      "\u001b[0;32m<__array_function__ internals>\u001b[0m in \u001b[0;36mroots\u001b[0;34m(*args, **kwargs)\u001b[0m\n",
      "\u001b[0;32m~/.conda/envs/sleap_dev/lib/python3.7/site-packages/numpy/lib/polynomial.py\u001b[0m in \u001b[0;36mroots\u001b[0;34m(p)\u001b[0m\n\u001b[1;32m    258\u001b[0m \u001b[0;34m\u001b[0m\u001b[0m\n\u001b[1;32m    259\u001b[0m     \u001b[0;31m# tack any zeros onto the back of the array\u001b[0m\u001b[0;34m\u001b[0m\u001b[0;34m\u001b[0m\u001b[0;34m\u001b[0m\u001b[0m\n\u001b[0;32m--> 260\u001b[0;31m     \u001b[0mroots\u001b[0m \u001b[0;34m=\u001b[0m \u001b[0mhstack\u001b[0m\u001b[0;34m(\u001b[0m\u001b[0;34m(\u001b[0m\u001b[0mroots\u001b[0m\u001b[0;34m,\u001b[0m \u001b[0mNX\u001b[0m\u001b[0;34m.\u001b[0m\u001b[0mzeros\u001b[0m\u001b[0;34m(\u001b[0m\u001b[0mtrailing_zeros\u001b[0m\u001b[0;34m,\u001b[0m \u001b[0mroots\u001b[0m\u001b[0;34m.\u001b[0m\u001b[0mdtype\u001b[0m\u001b[0;34m)\u001b[0m\u001b[0;34m)\u001b[0m\u001b[0;34m)\u001b[0m\u001b[0;34m\u001b[0m\u001b[0;34m\u001b[0m\u001b[0m\n\u001b[0m\u001b[1;32m    261\u001b[0m     \u001b[0;32mreturn\u001b[0m \u001b[0mroots\u001b[0m\u001b[0;34m\u001b[0m\u001b[0;34m\u001b[0m\u001b[0m\n\u001b[1;32m    262\u001b[0m \u001b[0;34m\u001b[0m\u001b[0m\n",
      "\u001b[0;32m<__array_function__ internals>\u001b[0m in \u001b[0;36mhstack\u001b[0;34m(*args, **kwargs)\u001b[0m\n",
      "\u001b[0;32m~/.conda/envs/sleap_dev/lib/python3.7/site-packages/numpy/core/shape_base.py\u001b[0m in \u001b[0;36mhstack\u001b[0;34m(tup)\u001b[0m\n\u001b[1;32m    337\u001b[0m         \u001b[0m_arrays_for_stack_dispatcher\u001b[0m\u001b[0;34m(\u001b[0m\u001b[0mtup\u001b[0m\u001b[0;34m,\u001b[0m \u001b[0mstacklevel\u001b[0m\u001b[0;34m=\u001b[0m\u001b[0;36m2\u001b[0m\u001b[0;34m)\u001b[0m\u001b[0;34m\u001b[0m\u001b[0;34m\u001b[0m\u001b[0m\n\u001b[1;32m    338\u001b[0m \u001b[0;34m\u001b[0m\u001b[0m\n\u001b[0;32m--> 339\u001b[0;31m     \u001b[0marrs\u001b[0m \u001b[0;34m=\u001b[0m \u001b[0matleast_1d\u001b[0m\u001b[0;34m(\u001b[0m\u001b[0;34m*\u001b[0m\u001b[0mtup\u001b[0m\u001b[0;34m)\u001b[0m\u001b[0;34m\u001b[0m\u001b[0;34m\u001b[0m\u001b[0m\n\u001b[0m\u001b[1;32m    340\u001b[0m     \u001b[0;32mif\u001b[0m \u001b[0;32mnot\u001b[0m \u001b[0misinstance\u001b[0m\u001b[0;34m(\u001b[0m\u001b[0marrs\u001b[0m\u001b[0;34m,\u001b[0m \u001b[0mlist\u001b[0m\u001b[0;34m)\u001b[0m\u001b[0;34m:\u001b[0m\u001b[0;34m\u001b[0m\u001b[0;34m\u001b[0m\u001b[0m\n\u001b[1;32m    341\u001b[0m         \u001b[0marrs\u001b[0m \u001b[0;34m=\u001b[0m \u001b[0;34m[\u001b[0m\u001b[0marrs\u001b[0m\u001b[0;34m]\u001b[0m\u001b[0;34m\u001b[0m\u001b[0;34m\u001b[0m\u001b[0m\n",
      "\u001b[0;32m<__array_function__ internals>\u001b[0m in \u001b[0;36matleast_1d\u001b[0;34m(*args, **kwargs)\u001b[0m\n",
      "\u001b[0;32m~/.conda/envs/sleap_dev/lib/python3.7/site-packages/numpy/core/shape_base.py\u001b[0m in \u001b[0;36matleast_1d\u001b[0;34m(*arys)\u001b[0m\n\u001b[1;32m     65\u001b[0m     \u001b[0;32mfor\u001b[0m \u001b[0mary\u001b[0m \u001b[0;32min\u001b[0m \u001b[0marys\u001b[0m\u001b[0;34m:\u001b[0m\u001b[0;34m\u001b[0m\u001b[0;34m\u001b[0m\u001b[0m\n\u001b[1;32m     66\u001b[0m         \u001b[0mary\u001b[0m \u001b[0;34m=\u001b[0m \u001b[0masanyarray\u001b[0m\u001b[0;34m(\u001b[0m\u001b[0mary\u001b[0m\u001b[0;34m)\u001b[0m\u001b[0;34m\u001b[0m\u001b[0;34m\u001b[0m\u001b[0m\n\u001b[0;32m---> 67\u001b[0;31m         \u001b[0;32mif\u001b[0m \u001b[0mary\u001b[0m\u001b[0;34m.\u001b[0m\u001b[0mndim\u001b[0m \u001b[0;34m==\u001b[0m \u001b[0;36m0\u001b[0m\u001b[0;34m:\u001b[0m\u001b[0;34m\u001b[0m\u001b[0;34m\u001b[0m\u001b[0m\n\u001b[0m\u001b[1;32m     68\u001b[0m             \u001b[0mresult\u001b[0m \u001b[0;34m=\u001b[0m \u001b[0mary\u001b[0m\u001b[0;34m.\u001b[0m\u001b[0mreshape\u001b[0m\u001b[0;34m(\u001b[0m\u001b[0;36m1\u001b[0m\u001b[0;34m)\u001b[0m\u001b[0;34m\u001b[0m\u001b[0;34m\u001b[0m\u001b[0m\n\u001b[1;32m     69\u001b[0m         \u001b[0;32melse\u001b[0m\u001b[0;34m:\u001b[0m\u001b[0;34m\u001b[0m\u001b[0;34m\u001b[0m\u001b[0m\n",
      "\u001b[0;31mKeyboardInterrupt\u001b[0m: "
     ]
    }
   ],
   "source": [
    "# This will take about a 50 seconds to run.\n",
    "\n",
    "fig, ax = plt.subplots(figsize=(10, 5))\n",
    "h5ind = 0\n",
    "tstart = 7000\n",
    "\n",
    "connections = [\n",
    "    np.arange(6, 10),\n",
    "    np.arange(10, 14),\n",
    "    np.arange(14, 18),\n",
    "    np.arange(18, 22),\n",
    "    np.arange(22, 26),\n",
    "    np.arange(26, 30),\n",
    "    [2, 0, 1],\n",
    "    [0, 3, 4, 5],\n",
    "    [31, 3, 30],\n",
    "]\n",
    "\n",
    "try:\n",
    "    tqdm._instances.clear()\n",
    "except:\n",
    "    pass\n",
    "\n",
    "\n",
    "def animate(t):\n",
    "    t = int(t * clips[h5ind].fps) + tstart\n",
    "    ax.clear()\n",
    "    for conn in connections:\n",
    "        ax.plot(h5s[h5ind][t, conn, 0], h5s[h5ind][t, conn, 1], \"k-\")\n",
    "    for i in range(h5s[h5ind].shape[1]):\n",
    "        ax.scatter(\n",
    "            h5s[h5ind][t, i, 0],\n",
    "            h5s[h5ind][t, i, 1],\n",
    "            marker=\"$%i$\" % i,\n",
    "            s=200,\n",
    "            color=\"k\",\n",
    "        )\n",
    "    ax.imshow(\n",
    "        clips[h5ind].get_frame((t) / clips[h5ind].fps), cmap=\"Greys\", origin=\"lower\"\n",
    "    )\n",
    "    ax.set_aspect(\"equal\")\n",
    "    ax.axis(\"off\")\n",
    "\n",
    "    return mplfig_to_npimage(fig)\n",
    "\n",
    "\n",
    "anim = VideoClip(animate, duration=20)\n",
    "plt.close()\n",
    "anim.ipython_display(fps=20, loop=True, autoplay=True)"
   ]
  },
  {
   "cell_type": "markdown",
   "metadata": {
    "id": "QIrjizpjQ3vj"
   },
   "source": [
    "## 2.1&nbsp; Data specific pre-processing\n",
    "\n",
    "[![](http://www.accutrend.com/wp-content/uploads/2018/07/GiGo-570x315.jpg)](http://www.accutrend.com/it-still-comes-down-to-garbage-in-garbage-out/)\n",
    "\n",
    "When working with any model, algorithm or pipeline, we have to be mindful of the data we are feeding into them. This section covers some (of many) tricks to process the input data before feeding into motionmapperpy. "
   ]
  },
  {
   "cell_type": "markdown",
   "metadata": {
    "id": "T01tFQfH0rr4"
   },
   "source": [
    "Working with the tracked bodypart positions can be challenging with flies, since there are a lot of correlations between the tracked points. We can visualize these in the plot below. "
   ]
  },
  {
   "cell_type": "code",
   "execution_count": null,
   "metadata": {
    "id": "AWl-poK60T6M"
   },
   "outputs": [
    {
     "ename": "",
     "evalue": "",
     "output_type": "error",
     "traceback": [
      "\u001b[1;31mnotebook controller is DISPOSED. \n",
      "\u001b[1;31mView Jupyter <a href='command:jupyter.viewOutput'>log</a> for further details."
     ]
    }
   ],
   "source": [
    "fig, ax = plt.subplots(figsize=(16, 8))\n",
    "_ = ax.plot(h5s[0][:1000, :].reshape((1000, -1)))\n",
    "ax.set_xlabel(\"Frame #\", fontsize=14)\n",
    "ax.set_ylabel(\"X and Y positions (px)\", fontsize=14)\n",
    "# ax.set_ylim([-0.5,1.5])"
   ]
  },
  {
   "cell_type": "markdown",
   "metadata": {
    "id": "8b7WvbHz1lJY"
   },
   "source": [
    "Instead, we can compute various angles using these 32 positions. Below, we'll compute 22 new angles in each frame using these positions, such as the angle between wingtips `(31, 0, 30)` in the image above. \n",
    "\n",
    "Working with angles is tricky since they will either fall between [-$\\pi$, $\\pi$] or [0, 2$\\pi$], and we can have discontinuties at the boundaries. As a workaround, we can choose to compute the angles to vary over either of these two ranges. For example, the wingtips cross over very frequently so we'll choose to compute then over the [-$\\pi$, $\\pi$] interval. We'll indicate this choice by saying 0 (or 1 for the other choice) as the last list element in angleinds defined below.  "
   ]
  },
  {
   "cell_type": "code",
   "execution_count": 15,
   "metadata": {
    "id": "UkStN45BrJjN"
   },
   "outputs": [],
   "source": [
    "# convert to angles space\n",
    "\n",
    "# [1,0,2,0] means the angle from 1 to 0 to 2 calculated over [-pi, pi] interval.\n",
    "angleinds = [\n",
    "    [1, 0, 2, 0],\n",
    "    [0, 3, 4, 0],\n",
    "    [3, 4, 5, 0],\n",
    "    [31, 3, 30, 1],\n",
    "    [6, 7, 8, 0],\n",
    "    [7, 8, 9, 0],\n",
    "    [10, 11, 12, 0],\n",
    "    [11, 12, 13, 0],\n",
    "    [14, 15, 16, 0],\n",
    "    [15, 16, 17, 0],\n",
    "    [26, 27, 28, 0],\n",
    "    [27, 28, 29, 0],\n",
    "    [22, 23, 24, 0],\n",
    "    [23, 24, 25, 0],\n",
    "    [18, 19, 20, 0],\n",
    "    [19, 20, 21, 0],\n",
    "    [3, 4, 18, 0],\n",
    "    [3, 4, 22, 0],\n",
    "    [3, 4, 26, 0],\n",
    "    [3, 4, 6, 0],\n",
    "    [3, 4, 10, 0],\n",
    "    [3, 4, 14, 0],\n",
    "]\n",
    "\n",
    "# Empty array to hold computed angles.\n",
    "angleh5s = [np.zeros((h5.shape[0], len(angleinds))) for h5 in h5s]\n",
    "\n",
    "# Function to compute angle between two vectors.\n",
    "def angle_between(v1, v2, small_angle=1):\n",
    "    \"\"\"\n",
    "    Calculate angle between two vectors.\n",
    "\n",
    "    Args:\n",
    "    v1, v2 : Pair of vectors of shape (N, 2).\n",
    "    small_angle : True if calculating over [-pi, pi],\n",
    "                  False if calculating over [0, 2pi].\n",
    "\n",
    "    Returns\n",
    "    N angles in degrees.\n",
    "    \"\"\"\n",
    "    ang1 = np.arctan2(v1[:, 1], v1[:, 0])\n",
    "    ang2 = np.arctan2(v2[:, 1], v2[:, 0])\n",
    "    if small_angle == 1:\n",
    "        out = np.rad2deg((ang1 - ang2) % (2 * np.pi))\n",
    "        out[out > 180] = -1 * (360 - out[out > 180])\n",
    "        return out\n",
    "    else:\n",
    "        return np.rad2deg((ang1 - ang2) % (2 * np.pi))\n",
    "\n",
    "\n",
    "for hi, h5 in enumerate(h5s):\n",
    "    for ai, aind in enumerate(angleinds):\n",
    "        v1 = h5[:, aind[0]] - h5[:, aind[1]]\n",
    "        v2 = h5[:, aind[2]] - h5[:, aind[1]]\n",
    "        angleh5s[hi][:, ai] = angle_between(v1, v2, small_angle=aind[3])"
   ]
  },
  {
   "cell_type": "markdown",
   "metadata": {
    "id": "rK-GudfQ1zRY"
   },
   "source": [
    "We can look at the angles time series below. We're plotting only 5 angles here just for the sake of visualization."
   ]
  },
  {
   "cell_type": "code",
   "execution_count": 16,
   "metadata": {
    "id": "_cLrahhDswM7"
   },
   "outputs": [
    {
     "data": {
      "text/plain": [
       "<matplotlib.legend.Legend at 0x7f1670991890>"
      ]
     },
     "execution_count": 16,
     "metadata": {},
     "output_type": "execute_result"
    }
   ],
   "source": [
    "fig, ax = plt.subplots(figsize=(16, 8))\n",
    "labels = [\n",
    "    \"Angle between wingtips\",\n",
    "    \"Neck angle\",\n",
    "    \"Right midleg femur-tibia angle\",\n",
    "    \"Left foreleg coxa-femur angle\",\n",
    "    \"Mesothorasic angle\",\n",
    "]\n",
    "for i, l in zip([3, 1, 13, 4, 2], labels):\n",
    "    _ = ax.plot(angleh5s[0][1000:2000, i] * np.pi / (180), label=l)\n",
    "ax.set_xlabel(\"Frame #\", fontsize=14)\n",
    "ax.set_ylabel(\"Angles (Rad)\", fontsize=14)\n",
    "ax.legend()"
   ]
  },
  {
   "cell_type": "markdown",
   "metadata": {
    "id": "kj2CuK_62Cp8"
   },
   "source": [
    "It seems like some of these angles vary a lot and some very little. We can get rid of this asymmetry by doing a min-max scaling, where we constrain each angle to scale between 0 and 1. "
   ]
  },
  {
   "cell_type": "code",
   "execution_count": 17,
   "metadata": {
    "id": "sc3yj_cEx_LZ"
   },
   "outputs": [
    {
     "data": {
      "text/plain": [
       "(0.0, 1.0)"
      ]
     },
     "execution_count": 17,
     "metadata": {},
     "output_type": "execute_result"
    }
   ],
   "source": [
    "# let's normalize these angles so they fall bw 0 and 1\n",
    "\n",
    "angleh5s_min = []\n",
    "for ah5 in angleh5s:\n",
    "    x = copy.deepcopy(ah5)\n",
    "    x = x - np.min([np.min(x, 0) for x in angleh5s], 0)[None, :]\n",
    "    angleh5s_min.append(x)\n",
    "\n",
    "angleh5s_normed = []\n",
    "for ah5min in angleh5s_min:\n",
    "    x = copy.deepcopy(ah5min)\n",
    "    x = x / np.max([np.max(x, 0) for x in angleh5s_min], 0)[None, :]\n",
    "    angleh5s_normed.append(x)\n",
    "\n",
    "fig, ax = plt.subplots(figsize=(16, 8))\n",
    "labels = [\n",
    "    \"Angle between wingtips\",\n",
    "    \"Neck angle\",\n",
    "    \"Right midleg femur-tibia angle\",\n",
    "    \"Left foreleg coxa-femur angle\",\n",
    "    \"Mesothorasic angle\",\n",
    "]\n",
    "for i, l in zip([3, 1, 13, 4, 2], labels):\n",
    "    _ = ax.plot(angleh5s_normed[0][:1000, i], label=l)\n",
    "ax.set_xlabel(\"Frame #\", fontsize=14)\n",
    "ax.set_ylabel(\"Normalized angles\", fontsize=14)\n",
    "ax.legend()\n",
    "ax.set_ylim([0, 1.0])"
   ]
  },
  {
   "cell_type": "markdown",
   "metadata": {
    "id": "jruSS0bx28S2"
   },
   "source": [
    "Now, we have a 22-dimensional feature space that is normalized, and we can use our favourite tool to reduce the dimensionality further to ease up on computational costs. Here, we'll use PCA to reduce the dimensions even further.\n",
    "\n",
    "We're using the PCA implementation from [`sklearn.decomposition.PCA`](https://scikit-learn.org/stable/modules/generated/sklearn.decomposition.PCA.html) here."
   ]
  },
  {
   "cell_type": "code",
   "execution_count": 18,
   "metadata": {
    "id": "gaEJJqDgjJyp"
   },
   "outputs": [
    {
     "data": {
      "text/plain": [
       "(20000, 22)"
      ]
     },
     "execution_count": 18,
     "metadata": {},
     "output_type": "execute_result"
    }
   ],
   "source": [
    "angleh5s_normed[1].shape"
   ]
  },
  {
   "cell_type": "code",
   "execution_count": 19,
   "metadata": {
    "id": "jX2VPLUAqcy3"
   },
   "outputs": [
    {
     "name": "stdout",
     "output_type": "stream",
     "text": [
      "We'll pick the first 12 components that explain 95% variance.\n"
     ]
    }
   ],
   "source": [
    "# Concatenate the two files for downstream analyses\n",
    "x = np.concatenate(angleh5s_normed, axis=0)\n",
    "# x.shape -> 40000, 22\n",
    "variance_threshold = 0.95\n",
    "\n",
    "# We are using sklearn.decomposition.PCA here\n",
    "p = PCA()\n",
    "y = p.fit_transform(x)\n",
    "\n",
    "fig, ax = plt.subplots(figsize=(10, 4))\n",
    "ax.plot(\n",
    "    np.arange(1, x.shape[1] + 1),\n",
    "    np.cumsum(p.explained_variance_ratio_),\n",
    "    color=\"firebrick\",\n",
    ")\n",
    "\n",
    "# This calculates the number of PCA components required to surpass teh variance threshold\n",
    "comps_above_thresh = np.argwhere(\n",
    "    np.cumsum(p.explained_variance_ratio_) > variance_threshold\n",
    ")[0][0]\n",
    "\n",
    "ax.axvline(x=comps_above_thresh, color=\"royalblue\", linestyle=\"--\", alpha=0.5)\n",
    "ax.text(x=comps_above_thresh + 1, y=0.5, s=\"%ith component\" % comps_above_thresh)\n",
    "ax.set_xlabel(\"PCA Components\")\n",
    "ax.set_ylabel(\"Cumulative Explained Variance\")\n",
    "ax.grid()\n",
    "\n",
    "print(\n",
    "    \"We'll pick the first %i components that\"\n",
    "    \" explain %i%% variance.\" % (comps_above_thresh, variance_threshold * 100)\n",
    ")"
   ]
  },
  {
   "cell_type": "markdown",
   "metadata": {
    "id": "ED8qyjD64cf7"
   },
   "source": [
    "We can look at the feature space composition of the leading principal components below. "
   ]
  },
  {
   "cell_type": "code",
   "execution_count": 20,
   "metadata": {
    "id": "OSWegNQqjWGw"
   },
   "outputs": [
    {
     "data": {
      "text/plain": [
       "(40000, 22)"
      ]
     },
     "execution_count": 20,
     "metadata": {},
     "output_type": "execute_result"
    }
   ],
   "source": [
    "y.shape"
   ]
  },
  {
   "cell_type": "code",
   "execution_count": 21,
   "metadata": {
    "id": "FUdFBgSECS-y"
   },
   "outputs": [],
   "source": [
    "fig, ax = plt.subplots(figsize=(20, 4))\n",
    "\n",
    "for i in range(comps_above_thresh):\n",
    "    for pi in range(x.shape[1]):\n",
    "        ax.bar(\n",
    "            (i - 0.4 + pi * (0.8 / x.shape[1])),\n",
    "            p.components_[i, pi],\n",
    "            width=(0.7 / x.shape[1]),\n",
    "            label=\"Angle %i\" % i,\n",
    "        )\n",
    "    ax.set_prop_cycle(None)\n",
    "\n",
    "ax.set_xlabel(\"Leading PCA Components \")\n",
    "ax.set_ylabel(\"Proportion along PC direction\")\n",
    "# ax.legend()\n",
    "ax.grid()\n",
    "plt.show()"
   ]
  },
  {
   "cell_type": "markdown",
   "metadata": {
    "id": "v7neVB4M5Bnc"
   },
   "source": [
    "This gives us some idea of how these maximally varying components are oriented in our high dimensional feature space.\n",
    "\n",
    "\n",
    "Now we can reduce our feature space dimensions further! Note that here we use variable `y` which was obtained after the PCA transformation."
   ]
  },
  {
   "cell_type": "code",
   "execution_count": 22,
   "metadata": {
    "id": "8lkDvHo3YTuw"
   },
   "outputs": [
    {
     "name": "stdout",
     "output_type": "stream",
     "text": [
      "(40000, 12)\n",
      "[(20000, 12), (20000, 12)]\n"
     ]
    }
   ],
   "source": [
    "# picking PCA components above threshold\n",
    "y = y[:, :comps_above_thresh]\n",
    "print(y.shape)\n",
    "\n",
    "# Let's also split y to the size of original h5 files.\n",
    "projs_list = np.split(y, np.cumsum([h5.shape[0] for h5 in h5s])[:-1])\n",
    "\n",
    "print([p.shape for p in projs_list])"
   ]
  },
  {
   "cell_type": "markdown",
   "metadata": {
    "id": "RJz2-Rwl6MQ5"
   },
   "source": [
    "Now we have **projs_list**, which contains two (relatively) low-dimensional timeseries. "
   ]
  },
  {
   "cell_type": "markdown",
   "metadata": {
    "id": "MhuNfeVm4T1P"
   },
   "source": [
    "# 3.&nbsp; Creating an mmpy project directory\n",
    "\n",
    "Now that we have two low dimensional time series which **may** not set Google servers on fire, we will create our project directory for running the `motionmapperpy` pipeline on the data we have. Having a project directory is awesome, as it helps us stay organized when working with big datasets and multiple files. It allows datasets to be easily referenced and loaded without exhausting memory, and we can store pipeline outputs in well-defined and easy to read files.\n",
    "\n",
    "\n",
    "Lets start by importing `motionmapperpy` and creating a project directory."
   ]
  },
  {
   "cell_type": "code",
   "execution_count": 23,
   "metadata": {
    "id": "smnR7O9Y4idG"
   },
   "outputs": [
    {
     "name": "stdout",
     "output_type": "stream",
     "text": [
      "Skipping, path already exists : Fly_Leap_mmpy\n",
      "Skipping, path already exists : Fly_Leap_mmpy/Projections\n",
      "Skipping, path already exists : Fly_Leap_mmpy/TSNE_Projections\n",
      "Skipping, path already exists : Fly_Leap_mmpy/TSNE\n",
      "Skipping, path already exists : Fly_Leap_mmpy/UMAP\n"
     ]
    }
   ],
   "source": [
    "import motionmapperpy as mmpy\n",
    "\n",
    "\n",
    "projectPath = \"Fly_Leap_mmpy\"\n",
    "\n",
    "# This creates a project directory structure which will be used to store all motionmappery pipeline\n",
    "# related data in one place.\n",
    "\n",
    "mmpy.createProjectDirectory(projectPath)"
   ]
  },
  {
   "cell_type": "markdown",
   "metadata": {
    "id": "z_uosHZN5mqS"
   },
   "source": [
    "Now lets store the two low-d time series in **projs_list** to the *`Projections`* folder in the project directory.\n",
    "\n"
   ]
  },
  {
   "cell_type": "code",
   "execution_count": null,
   "metadata": {
    "id": "cDOKMsD15_l-"
   },
   "outputs": [
    {
     "ename": "",
     "evalue": "",
     "output_type": "error",
     "traceback": [
      "\u001b[1;31mnotebook controller is DISPOSED. \n",
      "\u001b[1;31mView Jupyter <a href='command:jupyter.viewOutput'>log</a> for further details."
     ]
    }
   ],
   "source": [
    "for i, projs in enumerate(projs_list):\n",
    "    hdf5storage.savemat(\n",
    "        \"%s/Projections/%s_pcaModes.mat\" % (projectPath, datasetnames[i]),\n",
    "        {\"projections\": projs},\n",
    "    )"
   ]
  },
  {
   "cell_type": "markdown",
   "metadata": {
    "id": "ocFZeYek6gO_"
   },
   "source": [
    "We'll now go through `mmpy` parameters. They are a handful and can be overwhelming, but they are very easy to understand! \n",
    "\n",
    "Parameters are cruicial to `mmpy` as they lay out some hard-coded choices we need to make when running this pipeline. I will explain each parameter as we encounter them in the cell below, so please read through this cell below as you run it.\n"
   ]
  },
  {
   "cell_type": "code",
   "execution_count": 24,
   "metadata": {
    "id": "U_QuCClWcDHm"
   },
   "outputs": [],
   "source": [
    "\"\"\"2. Setup run parameters for MotionMapper.\"\"\"\n",
    "\n",
    "#% Load the default parameters.\n",
    "parameters = mmpy.setRunParameters()"
   ]
  },
  {
   "cell_type": "code",
   "execution_count": 25,
   "metadata": {
    "id": "lWC2PbfYnG6X"
   },
   "outputs": [
    {
     "data": {
      "text/plain": [
       "{'numProcessors': 16,\n",
       " 'numPeriods': 25,\n",
       " 'omega0': 5,\n",
       " 'samplingFreq': 100,\n",
       " 'minF': 1,\n",
       " 'maxF': 50,\n",
       " 'tSNE_method': 'barnes_hut',\n",
       " 'perplexity': 32,\n",
       " 'embedding_batchSize': 128000,\n",
       " 'maxOptimIter': 500,\n",
       " 'trainingSetSize': 64000,\n",
       " 'maxNeighbors': 200,\n",
       " 'kdNeighbors': 5,\n",
       " 'training_perplexity': 20,\n",
       " 'training_numPoints': 32000,\n",
       " 'minTemplateLength': 1,\n",
       " 'waveletDecomp': True,\n",
       " 'useGPU': -1,\n",
       " 'n_neighbors': 15,\n",
       " 'train_negative_sample_rate': 5,\n",
       " 'embed_negative_sample_rate': 1,\n",
       " 'min_dist': 0.1,\n",
       " 'umap_output_dims': 2,\n",
       " 'n_training_epochs': 100,\n",
       " 'rescale_max': 100,\n",
       " 'method': 'TSNE',\n",
       " 'projectPath': 'mmpy_lts_1d'}"
      ]
     },
     "execution_count": 25,
     "metadata": {},
     "output_type": "execute_result"
    }
   ],
   "source": [
    "parameters"
   ]
  },
  {
   "cell_type": "code",
   "execution_count": 26,
   "metadata": {
    "id": "5866VHTOlTL3"
   },
   "outputs": [],
   "source": [
    "# %%%%%%% PARAMETERS TO CHANGE %%%%%%%%%%%%%%%%%%%%%%%%%%%%%%%%%%%%%%%%%%%%%%\n",
    "# These need to be revised everytime you are working with a new dataset. #\n",
    "\n",
    "parameters.projectPath = projectPath  #% Full path to the project directory.\n",
    "\n",
    "\n",
    "parameters.method = \"UMAP\"  #% We can choose between 'TSNE' or 'UMAP'\n",
    "\n",
    "parameters.minF = 1  #% Minimum frequency for Morlet Wavelet Transform\n",
    "\n",
    "parameters.maxF = 50  #% Maximum frequency for Morlet Wavelet Transform,\n",
    "#% usually equal to the Nyquist frequency for your\n",
    "#% measurements.\n",
    "\n",
    "parameters.samplingFreq = 100  #% Sampling frequency (or FPS) of data.\n",
    "\n",
    "parameters.numPeriods = 25  #% No. of dyadically spaced frequencies to\n",
    "#% calculate between minF and maxF.\n",
    "\n",
    "parameters.pcaModes = comps_above_thresh  #% Number of low-d features.\n",
    "\n",
    "parameters.numProcessors = -1  #% No. of processor to use when parallel\n",
    "#% processing for wavelet calculation (if not using GPU)\n",
    "#% and for re-embedding. -1 to use all cores\n",
    "#% available.\n",
    "\n",
    "parameters.useGPU = -1  #% GPU to use for wavelet calculation,\n",
    "#% set to -1 if GPU not present.\n",
    "\n",
    "parameters.training_numPoints = 3000  #% Number of points in mini-trainings.\n",
    "\n",
    "\n",
    "# %%%%% NO NEED TO CHANGE THESE UNLESS MEMORY ERRORS OCCUR %%%%%%%%%%\n",
    "\n",
    "parameters.trainingSetSize = 5000  #% Total number of training set points to find.\n",
    "#% Increase or decrease based on\n",
    "#% available RAM. For reference, 36k is a\n",
    "#% good number with 64GB RAM.\n",
    "\n",
    "parameters.embedding_batchSize = 30000  #% Lower this if you get a memory error when\n",
    "#% re-embedding points on a learned map.\n",
    "\n",
    "# %%%%%%%%%%%%%%%%%%%%%%%%%%%%%%%%%%%%%%%%%%%%%%%%%%%%%%%%%%%%%%%%%%%%%%%%%%%"
   ]
  },
  {
   "cell_type": "markdown",
   "metadata": {
    "id": "wU8RN67i_fZe"
   },
   "source": [
    "Above covers usually relevant parameters when using `mmpy`. However, there are parameters associated with tSNE and UMAP implementations, such as below, which aren't usually required to be changed."
   ]
  },
  {
   "cell_type": "code",
   "execution_count": 27,
   "metadata": {
    "id": "O3RBAwEg_75_"
   },
   "outputs": [],
   "source": [
    "# %%%%%%% tSNE parameters %%%%%%%%%%%%%%%%%%%%%%%%%%%%%%%%%%%%%%%%%%%%%%\n",
    "\n",
    "#% can be 'barnes_hut' or 'exact'. We'll use barnes_hut for this tutorial for speed.\n",
    "parameters.tSNE_method = \"barnes_hut\"\n",
    "\n",
    "# %2^H (H is the transition entropy)\n",
    "parameters.perplexity = 32\n",
    "\n",
    "# %number of neigbors to use when re-embedding\n",
    "parameters.maxNeighbors = 200\n",
    "\n",
    "# %local neighborhood definition in training set creation\n",
    "parameters.kdNeighbors = 5\n",
    "\n",
    "# %t-SNE training set perplexity\n",
    "parameters.training_perplexity = 20\n",
    "\n",
    "\n",
    "# %%%%%%%% UMAP Parameters %%%%%%%%%%%%%%%%%%%%%%%%%%%%%%%%%%%%%%%%%%%%%%\n",
    "\n",
    "# Size of local neighborhood for UMAP.\n",
    "n_neighbors = 15\n",
    "\n",
    "# Negative sample rate while training.\n",
    "train_negative_sample_rate = 5\n",
    "\n",
    "# Negative sample rate while embedding new data.\n",
    "embed_negative_sample_rate = 1\n",
    "\n",
    "# Minimum distance between neighbors.\n",
    "min_dist = 0.1"
   ]
  },
  {
   "cell_type": "markdown",
   "metadata": {
    "id": "bTh2DM5L6e8E"
   },
   "source": [
    "## 3.1&nbsp; Visualizing wavelet amplitudes\n",
    "\n",
    "This section is not required to be run by motionmapperpy, but we'll go through it to visualize spectrograms on one of the low-dimensional time series.\n",
    "\n",
    "We'll use `mmpy.findWavelets` function to obtain the waveletes, and plot the obtained spectrogram for each feature/projection. "
   ]
  },
  {
   "cell_type": "code",
   "execution_count": null,
   "metadata": {
    "id": "lysbx4_k61KW"
   },
   "outputs": [
    {
     "ename": "",
     "evalue": "",
     "output_type": "error",
     "traceback": [
      "\u001b[1;31mnotebook controller is DISPOSED. \n",
      "\u001b[1;31mView Jupyter <a href='command:jupyter.viewOutput'>log</a> for further details."
     ]
    }
   ],
   "source": [
    "wlets, freqs = mmpy.findWavelets(\n",
    "    projs_list[0],\n",
    "    projs_list[0].shape[1],\n",
    "    parameters.omega0,\n",
    "    parameters.numPeriods,\n",
    "    parameters.samplingFreq,\n",
    "    parameters.maxF,\n",
    "    parameters.minF,\n",
    "    parameters.numProcessors,\n",
    "    parameters.useGPU,\n",
    ")\n",
    "\n",
    "fig, axes = plt.subplots(y.shape[1], 1, figsize=(20, 18))\n",
    "\n",
    "for i, ax in enumerate(axes.flatten()):\n",
    "    ax.imshow(wlets[:300, 25 * i : 25 * (i + 1)].T, cmap=\"PuRd\", origin=\"lower\")\n",
    "    ax.set_yticks([0, 5, 10, 15, 20, 24])\n",
    "    ax.set_yticklabels([\"%0.1f\" % freqs[j] for j in [0, 5, 10, 15, 20, 24]])\n",
    "    if i == 3:\n",
    "        ax.set_ylabel(\"Frequencies (hz)\", fontsize=14)\n",
    "    ax.set_title(\"Projection #%i\" % (i + 1))\n",
    "ax.set_xlabel(\"Frames\", fontsize=14)"
   ]
  },
  {
   "cell_type": "code",
   "execution_count": null,
   "metadata": {},
   "outputs": [
    {
     "ename": "",
     "evalue": "",
     "output_type": "error",
     "traceback": [
      "\u001b[1;31mnotebook controller is DISPOSED. \n",
      "\u001b[1;31mView Jupyter <a href='command:jupyter.viewOutput'>log</a> for further details."
     ]
    }
   ],
   "source": [
    "freqs"
   ]
  },
  {
   "cell_type": "markdown",
   "metadata": {
    "id": "TWZtyxgLBWyu"
   },
   "source": [
    "As we can see, our low-d time series is soon dwarfed by the 25-dimensional wavelet amplitudes obtained for each low-d feature! This is why its wise to spend some time reducing the dimensionality of our original data, as much as we can. \n"
   ]
  },
  {
   "cell_type": "markdown",
   "metadata": {
    "id": "7aNoAnng7Cla"
   },
   "source": [
    "# 5.&nbsp; Creating a training set and embedding it using tSNE/UMAP "
   ]
  },
  {
   "cell_type": "markdown",
   "metadata": {
    "id": "y9eJ1AzK7ybU"
   },
   "source": [
    "Even though we are working with toy datasets, we have two extremely high dimensional timeseries we're using to create a smaller and more interpretable representation. tSNE and UMAP both need to compute all-to-all distances in high-dimensional space to find neighboring points and embed them closely on this low-dimensional space we're building. This computation can quickly exhaust memory (RAM) and scale exponentially with datapoints. \n",
    "\n",
    "To navigate this challenge, we do a subsampling procedure to create a training set, and use tSNE or UMAP to create training embeddings. All of this is done in the cell below.\n",
    "\n",
    "**Time taken** : TSNE 86 sec | UMAP 44 sec\n"
   ]
  },
  {
   "cell_type": "code",
   "execution_count": 28,
   "metadata": {},
   "outputs": [
    {
     "name": "stdout",
     "output_type": "stream",
     "text": [
      "Fly_Leap_mmpy/Projections/fly_leap_test_2_pcaModes.mat\n",
      "(20000, 12)\n",
      "11-03-2022_14-28\n",
      "tsneStarted\n",
      "Calculating wavelets...\n",
      "Processing Fly_Leap_mmpy/Projections/fly_leap_test_2_pcaModes.mat\n",
      "\t Loading Projections\n",
      "\t Calculating Wavelets\n",
      "11-03-2022_14-28\n",
      "Calculating wavelets...\n",
      "Processing Fly_Leap_mmpy/Projections/fly_leap_test_pcaModes.mat\n",
      "\t Loading Projections\n",
      "\t Calculating Wavelets\n",
      "11-03-2022_14-28\n"
     ]
    }
   ],
   "source": [
    "import glob\n",
    "import natsort\n",
    "import h5py\n",
    "\n",
    "projectionFiles = glob.glob(parameters.projectPath + \"/Projections/**pcaModes.mat\")\n",
    "projectionFiles = natsort.natsorted(projectionFiles)\n",
    "print(projectionFiles[0])\n",
    "with h5py.File(projectionFiles[0], \"r\") as f:\n",
    "    m = f[\"projections\"][:].T\n",
    "\n",
    "# %%%%%\n",
    "print(m.shape)\n",
    "parameters.pcaModes = m.shape[1]  #%Number of PCA projections in saved files.\n",
    "parameters.numProjections = parameters.pcaModes\n",
    "# %%%%%\n",
    "del m\n",
    "\n",
    "print(datetime.now().strftime(\"%m-%d-%Y_%H-%M\"))\n",
    "print(\"tsneStarted\")\n",
    "\n",
    "if parameters.method == \"TSNE\":\n",
    "    if parameters.waveletDecomp:\n",
    "        tsnefolder = parameters.projectPath + \"/TSNE/\"\n",
    "    else:\n",
    "        tsnefolder = parameters.projectPath + \"/TSNE_Projections/\"\n",
    "elif parameters.method == \"UMAP\":\n",
    "    tsnefolder = parameters.projectPath + \"/UMAP/\"\n",
    "for i in range(len(projectionFiles)):\n",
    "    if not os.path.exists(tsnefolder + \"training_tsne_embedding.mat\"):\n",
    "        print(\"Calculating wavelets...\")\n",
    "        mmpy.get_wavelets(projectionFiles, parameters, i)\n",
    "        print(datetime.now().strftime(\"%m-%d-%Y_%H-%M\"))"
   ]
  },
  {
   "cell_type": "code",
   "execution_count": 29,
   "metadata": {
    "id": "iRid9ecM7q3A"
   },
   "outputs": [
    {
     "name": "stdout",
     "output_type": "stream",
     "text": [
      "Finding Training Set\n",
      "Subsampled trainingSetData found, skipping minitSNE and running training tSNE\n",
      "Finding UMAP Embedding for Training Set\n"
     ]
    },
    {
     "name": "stderr",
     "output_type": "stream",
     "text": [
      "OMP: Info #271: omp_set_nested routine deprecated, please use omp_set_max_active_levels instead.\n"
     ]
    },
    {
     "name": "stdout",
     "output_type": "stream",
     "text": [
      "Saving UMAP model to disk...\n",
      "Done in 24 seconds.\n"
     ]
    }
   ],
   "source": [
    "t1 = time.time()\n",
    "\n",
    "mmpy.subsampled_tsne_from_projections(parameters, parameters.projectPath)\n",
    "\n",
    "print(\"Done in %i seconds.\" % (time.time() - t1))"
   ]
  },
  {
   "cell_type": "markdown",
   "metadata": {
    "id": "q7QH0-yOEkgZ"
   },
   "source": [
    "Note that the `training set` and `training embedding` are both save in the `project_directory/TSNE` or `project_directory/UMAP` directories depending on which method you're using. We'll load the training embedding below and plot it. You can play around with the sigma value here to change the coarseness of the density map. "
   ]
  },
  {
   "cell_type": "code",
   "execution_count": 30,
   "metadata": {
    "id": "AXfWBg7pAx2w"
   },
   "outputs": [
    {
     "data": {
      "text/plain": [
       "<matplotlib.image.AxesImage at 0x7f1670c6f2d0>"
      ]
     },
     "execution_count": 30,
     "metadata": {},
     "output_type": "execute_result"
    }
   ],
   "source": [
    "trainy = hdf5storage.loadmat(\n",
    "    \"%s/%s/training_embedding.mat\" % (parameters.projectPath, parameters.method)\n",
    ")[\"trainingEmbedding\"]\n",
    "m = np.abs(trainy).max()\n",
    "\n",
    "\n",
    "sigma = 2.0\n",
    "_, xx, density = mmpy.findPointDensity(trainy, sigma, 511, [-m - 20, m + 20])\n",
    "\n",
    "\n",
    "fig, axes = plt.subplots(1, 2, figsize=(12, 6))\n",
    "axes[0].scatter(\n",
    "    trainy[:, 0], trainy[:, 1], marker=\".\", c=np.arange(trainy.shape[0]), s=1\n",
    ")\n",
    "axes[0].set_xlim([-m - 20, m + 20])\n",
    "axes[0].set_ylim([-m - 20, m + 20])\n",
    "\n",
    "axes[1].imshow(\n",
    "    density, cmap=mmpy.gencmap(), extent=(xx[0], xx[-1], xx[0], xx[-1]), origin=\"lower\"\n",
    ")"
   ]
  },
  {
   "cell_type": "markdown",
   "metadata": {
    "id": "h-B_oiewMXAC"
   },
   "source": [
    "On the left, we see a scatter plot and on the right, we see a Gaussian kernel convolved density estimation of these points. Does it surprise you? What does changing the sigma value do?  \n"
   ]
  },
  {
   "cell_type": "markdown",
   "metadata": {
    "id": "iW5jndTkW1of"
   },
   "source": [
    "# 6.&nbsp; Finding embeddings for all data"
   ]
  },
  {
   "cell_type": "markdown",
   "metadata": {
    "id": "bdCW8Y309RXu"
   },
   "source": [
    "Now, we can find embeddings for our entire dataset! We'll use the `mmpy.findEmbeddings` function which requires the training set and the 2-d embeddings we find in the last step, and the high-d 'projections' time series for each dataset. We'll save the obtained embeddings for each dataset neatly in the Projections folder so that we can reference them later.\n",
    "\n",
    "**Running time** : TSNE 19 mins | UMAP 3 mins"
   ]
  },
  {
   "cell_type": "code",
   "execution_count": 31,
   "metadata": {
    "id": "MB84yPqS8u89"
   },
   "outputs": [
    {
     "name": "stdout",
     "output_type": "stream",
     "text": [
      "Finding Embeddings\n",
      "1/2 : Fly_Leap_mmpy/Projections/fly_leap_test_pcaModes.mat\n",
      "Already done. Skipping.\n",
      "\n",
      "Finding Embeddings\n",
      "2/2 : Fly_Leap_mmpy/Projections/fly_leap_test_2_pcaModes.mat\n",
      "Already done. Skipping.\n",
      "\n",
      "All Embeddings Saved in 0 seconds!\n"
     ]
    }
   ],
   "source": [
    "# tsne takes 19 mins\n",
    "tall = time.time()\n",
    "\n",
    "import h5py\n",
    "\n",
    "tfolder = parameters.projectPath + \"/%s/\" % parameters.method\n",
    "\n",
    "# Loading training data\n",
    "with h5py.File(tfolder + \"training_data.mat\", \"r\") as hfile:\n",
    "    trainingSetData = hfile[\"trainingSetData\"][:].T\n",
    "\n",
    "# Loading training embedding\n",
    "with h5py.File(tfolder + \"training_embedding.mat\", \"r\") as hfile:\n",
    "    trainingEmbedding = hfile[\"trainingEmbedding\"][:].T\n",
    "\n",
    "if parameters.method == \"TSNE\":\n",
    "    zValstr = \"zVals\"\n",
    "else:\n",
    "    zValstr = \"uVals\"\n",
    "\n",
    "projectionFiles = glob.glob(parameters.projectPath + \"/Projections/*pcaModes.mat\")\n",
    "for i in range(len(projectionFiles)):\n",
    "    print(\"Finding Embeddings\")\n",
    "    t1 = time.time()\n",
    "    print(\"%i/%i : %s\" % (i + 1, len(projectionFiles), projectionFiles[i]))\n",
    "\n",
    "    # Skip if embeddings already found.\n",
    "    if os.path.exists(projectionFiles[i][:-4] + \"_%s.mat\" % (zValstr)):\n",
    "        print(\"Already done. Skipping.\\n\")\n",
    "        continue\n",
    "\n",
    "    # load projections for a dataset\n",
    "    projections = hdf5storage.loadmat(projectionFiles[i])[\"projections\"]\n",
    "\n",
    "    # Find Embeddings\n",
    "    zValues, outputStatistics = mmpy.findEmbeddings(\n",
    "        projections, trainingSetData, trainingEmbedding, parameters, projectionFiles[i]\n",
    "    )\n",
    "\n",
    "    # Save embeddings\n",
    "    hdf5storage.write(\n",
    "        data={\"zValues\": zValues},\n",
    "        path=\"/\",\n",
    "        truncate_existing=True,\n",
    "        filename=projectionFiles[i][:-4] + \"_%s.mat\" % (zValstr),\n",
    "        store_python_metadata=False,\n",
    "        matlab_compatible=True,\n",
    "    )\n",
    "\n",
    "    # Save output statistics\n",
    "    with open(\n",
    "        projectionFiles[i][:-4] + \"_%s_outputStatistics.pkl\" % (zValstr), \"wb\"\n",
    "    ) as hfile:\n",
    "        pickle.dump(outputStatistics, hfile)\n",
    "\n",
    "    del zValues, projections, outputStatistics\n",
    "\n",
    "print(\"All Embeddings Saved in %i seconds!\" % (time.time() - tall))"
   ]
  },
  {
   "cell_type": "markdown",
   "metadata": {
    "id": "WlhFOt0-G_cW"
   },
   "source": [
    "We can visualize the obtained embeddings by calling the cell below."
   ]
  },
  {
   "cell_type": "code",
   "execution_count": 32,
   "metadata": {
    "id": "TMHW7yDeJIy_"
   },
   "outputs": [
    {
     "data": {
      "text/plain": [
       "<matplotlib.image.AxesImage at 0x7f1669614d90>"
      ]
     },
     "execution_count": 32,
     "metadata": {},
     "output_type": "execute_result"
    }
   ],
   "source": [
    "# load all the embeddings\n",
    "for i in glob.glob(parameters.projectPath + \"/Projections/*_%s.mat\" % (zValstr)):\n",
    "    ally = hdf5storage.loadmat(i)[\"zValues\"]\n",
    "\n",
    "m = np.abs(ally).max()\n",
    "\n",
    "sigma = 2.0\n",
    "_, xx, density = mmpy.findPointDensity(ally, sigma, 511, [-m - 20, m + 20])\n",
    "\n",
    "\n",
    "fig, axes = plt.subplots(1, 2, figsize=(12, 6))\n",
    "axes[0].scatter(ally[:, 0], ally[:, 1], marker=\".\", c=np.arange(ally.shape[0]), s=1)\n",
    "axes[0].set_xlim([-m - 20, m + 20])\n",
    "axes[0].set_ylim([-m - 20, m + 20])\n",
    "\n",
    "axes[1].imshow(\n",
    "    density, cmap=mmpy.gencmap(), extent=(xx[0], xx[-1], xx[0], xx[-1]), origin=\"lower\"\n",
    ")"
   ]
  },
  {
   "cell_type": "markdown",
   "metadata": {
    "id": "hLoOcHS0OKbr"
   },
   "source": [
    "# 7.&nbsp; Watershed transform on the density map. "
   ]
  },
  {
   "cell_type": "markdown",
   "metadata": {
    "id": "AkPqF-zDYANq"
   },
   "source": [
    "There is another handy function in `motionmapperpy` called `findWatershedRegions`. This will do an iterative watershed transform on the behavioral density map until the given `minimum_regions` are found in the density map.\n",
    "\n",
    "It saves watershed transformed output of the embedding in `project_director/UMAP/zVals_wShed_groups.mat` file.\n"
   ]
  },
  {
   "cell_type": "code",
   "execution_count": 33,
   "metadata": {
    "id": "50zDsiEPLw4s"
   },
   "outputs": [
    {
     "name": "stdout",
     "output_type": "stream",
     "text": [
      "Processing Fly_Leap_mmpy/Projections/fly_leap_test_pcaModes.mat\n",
      "1/2 Loading embedding for fly_leap_test_pcaModes 0.00 seconds.\n",
      "shape of zVals: (20000, 2)\n",
      "[[ -7.411806  -22.319342 ]\n",
      " [ -8.174732  -20.255476 ]\n",
      " [ -7.2384157 -14.944873 ]\n",
      " [ -5.195909  -14.711471 ]\n",
      " [ -3.875281  -17.728397 ]]\n",
      "Processing Fly_Leap_mmpy/Projections/fly_leap_test_2_pcaModes.mat\n",
      "2/2 Loading embedding for fly_leap_test_2_pcaModes 0.01 seconds.\n",
      "shape of zVals: (20000, 2)\n",
      "[[-13.2410755   -8.759333  ]\n",
      " [-12.069274   -12.123758  ]\n",
      " [ -6.338757    -5.222657  ]\n",
      " [ -6.2166705   -0.06651934]\n",
      " [ -5.4365377    3.9351826 ]]\n",
      "Starting watershed transform...\n",
      "Assigning watershed regions...\n",
      "\t tempsave done.\n",
      "All data saved in UMAP/zVals_wShed_groups.mat.\n"
     ]
    },
    {
     "data": {
      "image/png": "[encoded data removed]",
      "text/plain": [
       "<IPython.core.display.Image object>"
      ]
     },
     "execution_count": 33,
     "metadata": {},
     "output_type": "execute_result"
    }
   ],
   "source": [
    "import matplotlib.pyplot as plt\n",
    "\n",
    "startsigma = 4.2 if parameters.method == \"TSNE\" else 1.0\n",
    "mmpy.findWatershedRegions(\n",
    "    parameters,\n",
    "    minimum_regions=10,\n",
    "    startsigma=startsigma,\n",
    "    pThreshold=[0.33, 0.67],\n",
    "    saveplot=True,\n",
    "    endident=\"*_pcaModes.mat\",\n",
    ")\n",
    "\n",
    "from IPython.display import Image\n",
    "\n",
    "Image(glob.glob(\"%s/%s/zWshed*.png\" % (parameters.projectPath, parameters.method))[0])"
   ]
  },
  {
   "cell_type": "markdown",
   "metadata": {
    "id": "SY-yeTfGNok7"
   },
   "source": [
    "# 8.&nbsp; Ethograms and videos"
   ]
  },
  {
   "cell_type": "markdown",
   "metadata": {
    "id": "e-m-s9GpYolw"
   },
   "source": [
    "We can now create ethograms using the watershed region time series created in the last step. "
   ]
  },
  {
   "cell_type": "code",
   "execution_count": 34,
   "metadata": {
    "id": "1IjHvBQ2Begp"
   },
   "outputs": [
    {
     "name": "stdout",
     "output_type": "stream",
     "text": [
      "(20000, 11)\n",
      "(20000, 11)\n"
     ]
    },
    {
     "data": {
      "text/plain": [
       "Text(0.5, 0, 'Time (min)')"
      ]
     },
     "execution_count": 34,
     "metadata": {},
     "output_type": "execute_result"
    }
   ],
   "source": [
    "wshedfile = hdf5storage.loadmat(\n",
    "    \"%s/%s/zVals_wShed_groups.mat\" % (parameters.projectPath, parameters.method)\n",
    ")\n",
    "\n",
    "wregs = wshedfile[\"watershedRegions\"].flatten()\n",
    "ethogram = np.zeros((wregs.max() + 1, len(wregs)))\n",
    "\n",
    "for wreg in range(1, wregs.max() + 1):\n",
    "    ethogram[wreg, np.where(wregs == wreg)[0]] = 1.0\n",
    "\n",
    "\n",
    "ethogram = np.split(ethogram.T, np.cumsum(wshedfile[\"zValLens\"][0].flatten())[:-1])\n",
    "\n",
    "fig, axes = plt.subplots(2, 1, figsize=(20, 10))\n",
    "\n",
    "for e, name, ax in zip(ethogram, wshedfile[\"zValNames\"][0], axes.flatten()):\n",
    "    print(e.shape)\n",
    "    ax.imshow(e.T, aspect=\"auto\", cmap=mmpy.gencmap())\n",
    "    ax.set_title(name[0][0])\n",
    "    ax.set_yticks([i for i in range(1, wregs.max() + 1, 4)])\n",
    "    ax.set_yticklabels([\"Region %i\" % (j + 1) for j in range(1, wregs.max() + 1, 4)])\n",
    "\n",
    "    xticklocs = [6000 * i for i in range(3)]\n",
    "    ax.set_xticks(xticklocs)\n",
    "    ax.set_xticklabels([j / (6000) for j in xticklocs])\n",
    "\n",
    "ax.set_xlabel(\"Time (min)\")"
   ]
  },
  {
   "cell_type": "markdown",
   "metadata": {
    "id": "HxrwhMtMaaCa"
   },
   "source": [
    "## 8.1 Visualize behavioral map"
   ]
  },
  {
   "cell_type": "markdown",
   "metadata": {
    "id": "9q58dYlIODxJ"
   },
   "source": [
    "Run the below code to see the behavioral map in action. \n",
    "\n",
    "This may take **2 minutes** to run. "
   ]
  },
  {
   "cell_type": "code",
   "execution_count": 35,
   "metadata": {
    "id": "wdjnI94ct-I_"
   },
   "outputs": [
    {
     "name": "stdout",
     "output_type": "stream",
     "text": [
      "Moviepy - Building video __temp__.mp4.\n",
      "Moviepy - Writing video __temp__.mp4\n",
      "\n"
     ]
    },
    {
     "name": "stderr",
     "output_type": "stream",
     "text": [
      "                                                            \r"
     ]
    },
    {
     "name": "stdout",
     "output_type": "stream",
     "text": [
      "Moviepy - Done !\n",
      "Moviepy - video ready __temp__.mp4\n"
     ]
    },
    {
     "data": {
      "text/html": [
       "<div align=middle><video loop='True' autoplay='True'src='data:video/mp4;base64,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' controls>Sorry, seems like your browser doesn't support HTML5 audio/video</video></div>"
      ],
      "text/plain": [
       "<moviepy.video.io.html_tools.HTML2 object>"
      ]
     },
     "execution_count": 35,
     "metadata": {},
     "output_type": "execute_result"
    }
   ],
   "source": [
    "wshedfile = hdf5storage.loadmat(\n",
    "    \"%s/%s/zVals_wShed_groups.mat\" % (parameters.projectPath, parameters.method)\n",
    ")\n",
    "\n",
    "try:\n",
    "    tqdm._instances.clear()\n",
    "except:\n",
    "    pass\n",
    "\n",
    "fig, axes = plt.subplots(1, 2, figsize=(10, 5))\n",
    "zValues = wshedfile[\"zValues\"]\n",
    "m = np.abs(zValues).max()\n",
    "\n",
    "\n",
    "sigma = 1.0\n",
    "_, xx, density = mmpy.findPointDensity(zValues, sigma, 511, [-m - 10, m + 10])\n",
    "axes[0].imshow(\n",
    "    density, cmap=mmpy.gencmap(), extent=(xx[0], xx[-1], xx[0], xx[-1]), origin=\"lower\"\n",
    ")\n",
    "axes[0].axis(\"off\")\n",
    "axes[0].set_title(\"Method : %s\" % parameters.method)\n",
    "sc = axes[0].scatter([], [], marker=\"o\", color=\"k\", s=500)\n",
    "\n",
    "h5ind = 0\n",
    "tstart = 0\n",
    "connections = [\n",
    "    np.arange(6, 10),\n",
    "    np.arange(10, 14),\n",
    "    np.arange(14, 18),\n",
    "    np.arange(18, 22),\n",
    "    np.arange(22, 26),\n",
    "    np.arange(26, 30),\n",
    "    [2, 0, 1],\n",
    "    [0, 3, 4, 5],\n",
    "    [31, 3, 30],\n",
    "]\n",
    "\n",
    "\n",
    "def animate(t):\n",
    "    t = int(t * clips[h5ind].fps) + tstart\n",
    "    axes[1].clear()\n",
    "    im = axes[1].imshow(\n",
    "        clips[h5ind].get_frame(t / clips[h5ind].fps), cmap=\"Greys\", origin=\"lower\"\n",
    "    )\n",
    "    for conn in connections:\n",
    "        axes[1].plot(h5s[h5ind][t, conn, 0], h5s[h5ind][t, conn, 1], \"k-\")\n",
    "    axes[1].axis(\"off\")\n",
    "    sc.set_offsets(zValues[20000 * h5ind + t])\n",
    "    return mplfig_to_npimage(fig)  # im, ax\n",
    "\n",
    "\n",
    "anim = VideoClip(animate, duration=2)  # will throw memory error for more than 100.\n",
    "plt.close()\n",
    "anim.ipython_display(fps=15, loop=True, autoplay=True, maxduration=120)"
   ]
  },
  {
   "cell_type": "markdown",
   "metadata": {
    "id": "8X9SvyLia_hT"
   },
   "source": [
    "At this point, you know everything you need to know to create a behavioral map for a set of datasets. But this is where we can actually start doing some science! \n",
    "\n",
    "Open the project directory on the left pane. We should see some files in *Fly_Leap_mmpy/TSNE* or Fly_Leap_mmpy/UMAP folder. The 2-dimensional embeddings of all the files we've used for this project can be found in the **zVals_wShed_groups.mat** file which can be opened using hdf5storage in Python (as we did in the previous cell) or natively in MATLAB. This is where we can start doing some science!\n"
   ]
  },
  {
   "cell_type": "code",
   "execution_count": null,
   "metadata": {
    "id": "eVrrrOmu8Ywb"
   },
   "outputs": [
    {
     "ename": "",
     "evalue": "",
     "output_type": "error",
     "traceback": [
      "\u001b[1;31mnotebook controller is DISPOSED. \n",
      "\u001b[1;31mView Jupyter <a href='command:jupyter.viewOutput'>log</a> for further details."
     ]
    }
   ],
   "source": [
    "plt.figure()\n",
    "plt.imshow(wshedfile[\"density\"])"
   ]
  },
  {
   "cell_type": "code",
   "execution_count": null,
   "metadata": {
    "id": "yOf3NnCq94SH"
   },
   "outputs": [
    {
     "ename": "",
     "evalue": "",
     "output_type": "error",
     "traceback": [
      "\u001b[1;31mnotebook controller is DISPOSED. \n",
      "\u001b[1;31mView Jupyter <a href='command:jupyter.viewOutput'>log</a> for further details."
     ]
    }
   ],
   "source": [
    "wshedfile[\"zValNames\"]"
   ]
  },
  {
   "cell_type": "code",
   "execution_count": null,
   "metadata": {
    "id": "JDoZvt6Z-RYv"
   },
   "outputs": [
    {
     "ename": "",
     "evalue": "",
     "output_type": "error",
     "traceback": [
      "\u001b[1;31mnotebook controller is DISPOSED. \n",
      "\u001b[1;31mView Jupyter <a href='command:jupyter.viewOutput'>log</a> for further details."
     ]
    }
   ],
   "source": [
    "wshedfile[\"zValLens\"]"
   ]
  },
  {
   "cell_type": "code",
   "execution_count": null,
   "metadata": {
    "id": "4nJgioFq9mdx"
   },
   "outputs": [
    {
     "ename": "",
     "evalue": "",
     "output_type": "error",
     "traceback": [
      "\u001b[1;31mnotebook controller is DISPOSED. \n",
      "\u001b[1;31mView Jupyter <a href='command:jupyter.viewOutput'>log</a> for further details."
     ]
    }
   ],
   "source": [
    "wshedfile[\"watershedRegions\"].shape"
   ]
  },
  {
   "cell_type": "code",
   "execution_count": null,
   "metadata": {
    "id": "MtKsrjks-KfN"
   },
   "outputs": [
    {
     "ename": "",
     "evalue": "",
     "output_type": "error",
     "traceback": [
      "\u001b[1;31mnotebook controller is DISPOSED. \n",
      "\u001b[1;31mView Jupyter <a href='command:jupyter.viewOutput'>log</a> for further details."
     ]
    }
   ],
   "source": [
    "wshedfile[\"zValues\"].shape"
   ]
  },
  {
   "cell_type": "code",
   "execution_count": null,
   "metadata": {
    "id": "j66bqndnevGe"
   },
   "outputs": [
    {
     "ename": "",
     "evalue": "",
     "output_type": "error",
     "traceback": [
      "\u001b[1;31mnotebook controller is DISPOSED. \n",
      "\u001b[1;31mView Jupyter <a href='command:jupyter.viewOutput'>log</a> for further details."
     ]
    }
   ],
   "source": [
    "list(wshedfile.keys())"
   ]
  },
  {
   "cell_type": "markdown",
   "metadata": {
    "id": "iWRss0HMefip"
   },
   "source": [
    "## 8.2 Create region videos\n",
    "\n"
   ]
  },
  {
   "cell_type": "markdown",
   "metadata": {
    "id": "XzuQ3TLgcIDJ"
   },
   "source": [
    "Now we'll try to create region videos - we'll pick contiguous time points that belong in one watershed region, and see what the animals is doing at those times by creating a movie.  "
   ]
  },
  {
   "cell_type": "code",
   "execution_count": null,
   "metadata": {
    "id": "kFqSm9a8FZJr"
   },
   "outputs": [
    {
     "ename": "",
     "evalue": "",
     "output_type": "error",
     "traceback": [
      "\u001b[1;31mnotebook controller is DISPOSED. \n",
      "\u001b[1;31mView Jupyter <a href='command:jupyter.viewOutput'>log</a> for further details."
     ]
    }
   ],
   "source": [
    "def makeGroupsAndSegments(watershedRegions, zValLens, min_length=10, max_length=100):\n",
    "\n",
    "    inds = np.zeros_like(watershedRegions)\n",
    "    start = 0\n",
    "    for l in zValLens:\n",
    "        inds[start : start + l] = np.arange(l)\n",
    "        start += l\n",
    "    vinds = np.digitize(\n",
    "        np.arange(watershedRegions.shape[0]),\n",
    "        bins=np.concatenate([[0], np.cumsum(zValLens)]),\n",
    "    )\n",
    "\n",
    "    splitinds = np.where(np.diff(watershedRegions, axis=0) != 0)[0] + 1\n",
    "    inds = [\n",
    "        i\n",
    "        for i in np.split(inds, splitinds)\n",
    "        if len(i) > min_length and len(i) < max_length\n",
    "    ]\n",
    "    wregs = [\n",
    "        i[0]\n",
    "        for i in np.split(watershedRegions, splitinds)\n",
    "        if len(i) > min_length and len(i) < max_length\n",
    "    ]\n",
    "\n",
    "    vinds = [\n",
    "        i\n",
    "        for i in np.split(vinds, splitinds)\n",
    "        if len(i) > min_length and len(i) < max_length\n",
    "    ]\n",
    "    groups = [np.empty((0, 3), dtype=int)] * watershedRegions.max()\n",
    "\n",
    "    for wreg, tind, vind in zip(wregs, inds, vinds):\n",
    "        if np.all(vind == vind[0]):\n",
    "            groups[wreg - 1] = np.concatenate(\n",
    "                [\n",
    "                    groups[wreg - 1],\n",
    "                    np.array([vind[0], tind[0] + 1, tind[-1] + 1])[None, :],\n",
    "                ]\n",
    "            )\n",
    "    groups = np.array([[g] for g in groups])\n",
    "    return groups\n",
    "\n",
    "\n",
    "def makeregionvideo(region, parameters, wshedfile):\n",
    "\n",
    "    animfps = 50.0\n",
    "    subs = 2\n",
    "    submaxframes = 500\n",
    "\n",
    "    groups = makeGroupsAndSegments(\n",
    "        wshedfile[\"watershedRegions\"][0], wshedfile[\"zValLens\"][0]\n",
    "    )\n",
    "    nregs = len(groups)\n",
    "\n",
    "    region = region - 1\n",
    "\n",
    "    outputdir = \"%s/%s/region_vidoes_%i/\" % (\n",
    "        parameters.projectPath,\n",
    "        parameters.method,\n",
    "        nregs,\n",
    "    )\n",
    "    if not os.path.exists(outputdir):\n",
    "        os.mkdir(outputdir)\n",
    "    groups = groups - 1\n",
    "    print(\"[Region %i] Starting\" % (region + 1))\n",
    "\n",
    "    if os.path.isfile(outputdir + \"regions_\" + \"%.3i\" % (region + 1) + \".mp4\"):\n",
    "        print(\"[Region %i] Already present. \" % (region + 1))\n",
    "        return\n",
    "\n",
    "    tqdm._instances.clear()\n",
    "\n",
    "    if not groups[region][0].shape[0] or groups[region][0].shape[0] == 1:\n",
    "        print(\"[Region %i] No frames in groups.\" % (region + 1))\n",
    "        return\n",
    "\n",
    "    nframes = np.atleast_1d(np.diff(groups[region][0][:, 1:], axis=1).squeeze())\n",
    "    if np.sum(nframes < submaxframes) == 0:\n",
    "        print(\n",
    "            \"[Region %i] All frames sequences more than length %i.\"\n",
    "            % (region + 1, submaxframes)\n",
    "        )\n",
    "        return\n",
    "\n",
    "    nplots = min(subs * subs, np.sum(nframes < submaxframes))\n",
    "    longinds = np.where(nframes < submaxframes)[0]\n",
    "    selectedclips = longinds[np.argsort(nframes[longinds])[::-1]][:nplots]\n",
    "\n",
    "    vidindslist = groups[region][0][selectedclips, 0]\n",
    "    framestoplot = np.array(\n",
    "        [\n",
    "            np.arange(groups[region][0][i, 1], groups[region][0][i, 2])\n",
    "            for i in selectedclips\n",
    "        ]\n",
    "    )\n",
    "    maxsize = max([i.shape[0] for i in framestoplot])\n",
    "\n",
    "    print(\"[Region %i] Making region video...\" % (region + 1))\n",
    "\n",
    "    subx = max(2, int(np.ceil(np.sqrt(nplots))))\n",
    "    fig, axes = plt.subplots(subx, subx, figsize=(12, 12))\n",
    "    fig.subplots_adjust(0, 0, 1.0, 1.0, 0.0, 0.0)\n",
    "\n",
    "    def make_frame(t):\n",
    "        j_ = int(t * animfps)\n",
    "        for i in range(subx * subx):\n",
    "\n",
    "            ax = axes[i // subx, i % subx]\n",
    "            ax.clear()\n",
    "            ax.axis(\"off\")\n",
    "            if i >= nplots:\n",
    "                continue\n",
    "            j = j_ % len(framestoplot[i])\n",
    "            clip = clips[vidindslist[i]]\n",
    "            ax.imshow(\n",
    "                clip.get_frame(framestoplot[i][j] / clip.fps),\n",
    "                cmap=\"Greys_r\",\n",
    "                origin=\"lower\",\n",
    "            )\n",
    "        return mplfig_to_npimage(fig)\n",
    "\n",
    "    try:\n",
    "        tqdm._instances.clear()\n",
    "    except:\n",
    "        pass\n",
    "\n",
    "    t1 = time.time()\n",
    "    animation = VideoClip(make_frame, duration=maxsize / animfps)\n",
    "\n",
    "    animation.write_videofile(\n",
    "        outputdir + \"regions_\" + \"%.3i\" % (region + 1) + \".mp4\",\n",
    "        fps=animfps,\n",
    "        audio=False,\n",
    "        threads=1,\n",
    "    )\n",
    "\n",
    "    print(\n",
    "        \"[Region %i] %i seconds, Saved at %s\"\n",
    "        % (\n",
    "            region + 1,\n",
    "            time.time() - t1,\n",
    "            outputdir + \"regions_\" + \"%.3i\" % (region + 1) + \".mp4\",\n",
    "        )\n",
    "    )"
   ]
  },
  {
   "cell_type": "code",
   "execution_count": null,
   "metadata": {
    "id": "m8KvtmGD-xex"
   },
   "outputs": [
    {
     "ename": "",
     "evalue": "",
     "output_type": "error",
     "traceback": [
      "\u001b[1;31mnotebook controller is DISPOSED. \n",
      "\u001b[1;31mView Jupyter <a href='command:jupyter.viewOutput'>log</a> for further details."
     ]
    }
   ],
   "source": [
    "makeregionvideo(10, parameters, wshedfile)"
   ]
  },
  {
   "cell_type": "code",
   "execution_count": null,
   "metadata": {
    "id": "oPAVaIKzY1m6"
   },
   "outputs": [
    {
     "ename": "",
     "evalue": "",
     "output_type": "error",
     "traceback": [
      "\u001b[1;31mnotebook controller is DISPOSED. \n",
      "\u001b[1;31mView Jupyter <a href='command:jupyter.viewOutput'>log</a> for further details."
     ]
    }
   ],
   "source": [
    "# This creates region videos for all the region. This can take a while to run so be careful!\n",
    "wmax = wshedfile[\"watershedRegions\"].max()\n",
    "print(wmax)\n",
    "for i in range(1, wmax + 1):\n",
    "    makeregionvideo(i, parameters, wshedfile)"
   ]
  },
  {
   "cell_type": "code",
   "execution_count": null,
   "metadata": {
    "id": "64hriJsbbPOE"
   },
   "outputs": [
    {
     "ename": "",
     "evalue": "",
     "output_type": "error",
     "traceback": [
      "\u001b[1;31mnotebook controller is DISPOSED. \n",
      "\u001b[1;31mView Jupyter <a href='command:jupyter.viewOutput'>log</a> for further details."
     ]
    }
   ],
   "source": [
    "# Set region below to see your video.\n",
    "region = 10\n",
    "\n",
    "print(\"Region %i\" % region)\n",
    "from IPython.display import HTML\n",
    "from base64 import b64encode\n",
    "\n",
    "outputdir = \"%s/%s/region_vidoes_%i/\" % (\n",
    "    parameters.projectPath,\n",
    "    parameters.method,\n",
    "    wshedfile[\"watershedRegions\"].max(),\n",
    ")\n",
    "mp4 = open(outputdir + \"regions_\" + \"%.3i\" % (region) + \".mp4\", \"rb\").read()\n",
    "data_url = \"data:video/mp4;base64,\" + b64encode(mp4).decode()\n",
    "HTML(\n",
    "    \"\"\"\n",
    "<video width=400 controls loop autoplay>\n",
    "      <source src=\"%s\" type=\"video/mp4\">\n",
    "</video>\n",
    "\"\"\"\n",
    "    % data_url\n",
    ")"
   ]
  },
  {
   "cell_type": "markdown",
   "metadata": {
    "id": "7sHy6AF8YY25"
   },
   "source": [
    "\n",
    "\n",
    "You can also zip your project folder by calling \n",
    "```!zip -r Fly_Leap_mmpy.zip Fly_Leap_mmpy``` \n",
    "and download the folder on your local computer to play around with it. "
   ]
  },
  {
   "cell_type": "code",
   "execution_count": null,
   "metadata": {
    "id": "ySony2raayOg"
   },
   "outputs": [
    {
     "ename": "",
     "evalue": "",
     "output_type": "error",
     "traceback": [
      "\u001b[1;31mnotebook controller is DISPOSED. \n",
      "\u001b[1;31mView Jupyter <a href='command:jupyter.viewOutput'>log</a> for further details."
     ]
    }
   ],
   "source": [
    "# !zip -r Fly_Leap_mmpy.zip Fly_Leap_mmpy"
   ]
  },
  {
   "cell_type": "markdown",
   "metadata": {
    "id": "cl1TfHhQXAEE"
   },
   "source": [
    "# Transition Matrix"
   ]
  },
  {
   "cell_type": "code",
   "execution_count": null,
   "metadata": {
    "id": "_twbCv0yazsF"
   },
   "outputs": [
    {
     "ename": "",
     "evalue": "",
     "output_type": "error",
     "traceback": [
      "\u001b[1;31mnotebook controller is DISPOSED. \n",
      "\u001b[1;31mView Jupyter <a href='command:jupyter.viewOutput'>log</a> for further details."
     ]
    }
   ],
   "source": [
    "wregs = wshedfile[\"watershedRegions\"][0]\n",
    "wregs = np.split(wregs, np.cumsum(wshedfile[\"zValLens\"][0])[:-1])\n",
    "transitions = [mmpy.demoutils.getTransitions(w[w > 0]) for w in wregs]"
   ]
  },
  {
   "cell_type": "code",
   "execution_count": null,
   "metadata": {
    "id": "G-FfsTN-YkKY"
   },
   "outputs": [
    {
     "ename": "",
     "evalue": "",
     "output_type": "error",
     "traceback": [
      "\u001b[1;31mnotebook controller is DISPOSED. \n",
      "\u001b[1;31mView Jupyter <a href='command:jupyter.viewOutput'>log</a> for further details."
     ]
    }
   ],
   "source": [
    "fig, axes = plt.subplots(1, 4, figsize=(16, 5))\n",
    "\n",
    "statevals = np.arange(1, wshedfile[\"watershedRegions\"].max() + 2)\n",
    "for ax, d in zip(axes.flatten(), [1, 10, 100, 1000]):\n",
    "    F = mmpy.demoutils.makeTransitionMatrix(np.concatenate(transitions), d)\n",
    "    ax.imshow(\n",
    "        F,\n",
    "        cmap=\"PuRd\",\n",
    "        extent=(statevals[0], statevals[-1], statevals[0], statevals[-1]),\n",
    "    )\n",
    "    ax.set_xlabel(\"Initial State\")\n",
    "    ax.set_ylabel(\"Final State\")"
   ]
  },
  {
   "cell_type": "code",
   "execution_count": null,
   "metadata": {
    "id": "9bRLtqCyYeZ_"
   },
   "outputs": [
    {
     "ename": "",
     "evalue": "",
     "output_type": "error",
     "traceback": [
      "\u001b[1;31mnotebook controller is DISPOSED. \n",
      "\u001b[1;31mView Jupyter <a href='command:jupyter.viewOutput'>log</a> for further details."
     ]
    }
   ],
   "source": [
    "_ = mmpy.demoutils.plotLaggedEigenvalues(transitions)"
   ]
  },
  {
   "cell_type": "code",
   "execution_count": null,
   "metadata": {
    "id": "7IExLdacW5Uf"
   },
   "outputs": [
    {
     "ename": "",
     "evalue": "",
     "output_type": "error",
     "traceback": [
      "\u001b[1;31mnotebook controller is DISPOSED. \n",
      "\u001b[1;31mView Jupyter <a href='command:jupyter.viewOutput'>log</a> for further details."
     ]
    }
   ],
   "source": []
  }
 ],
 "metadata": {
  "colab": {
   "collapsed_sections": [],
   "include_colab_link": true,
   "provenance": [],
   "toc_visible": true
  },
  "kernelspec": {
   "display_name": "Python 3.7.11 ('sleap_dev')",
   "language": "python",
   "name": "python3"
  },
  "language_info": {
   "codemirror_mode": {
    "name": "ipython",
    "version": 3
   },
   "file_extension": ".py",
   "mimetype": "text/x-python",
   "name": "python",
   "nbconvert_exporter": "python",
   "pygments_lexer": "ipython3",
   "version": "3.7.11"
  },
  "vscode": {
   "interpreter": {
    "hash": "177c836934b6a63d57a075b5cc3f7812a3de8a98495a556647184ecb20fdf5fb"
   }
  }
 },
 "nbformat": 4,
 "nbformat_minor": 0
}
